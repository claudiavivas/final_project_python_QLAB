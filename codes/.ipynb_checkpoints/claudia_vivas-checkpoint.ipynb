{
 "cells": [
  {
   "cell_type": "markdown",
   "id": "68e70f53",
   "metadata": {},
   "source": [
    "# Trabajo final\n",
    "## Alumna: Claudia Vivas "
   ]
  },
  {
   "cell_type": "markdown",
   "id": "5754f035",
   "metadata": {},
   "source": [
    "Mi trabajo final de del curso de Python consiste en analizar la música que escuché durante el último año en Spotify. Particularmente, estoy interesada en saber qué artista escuché más, aunuqe tengo fuertes sospechas de que fue **Taylor Swift**. Asi que tratataré de provar cuan fan de esta artista soy. En la primera parte realizaré la limpieza de los datos, en la segunda, realizaré unos gráficos usando el paquete **Altair**."
   ]
  },
  {
   "cell_type": "markdown",
   "id": "a76c5e6d",
   "metadata": {},
   "source": [
    "### Importación de paquetes a usar"
   ]
  },
  {
   "cell_type": "code",
   "execution_count": 1,
   "id": "2583b0bf",
   "metadata": {},
   "outputs": [],
   "source": [
    "import pandas as pd\n",
    "import numpy as np\n",
    "import json\n",
    "import altair as alt\n",
    "import wbgapi as wb"
   ]
  },
  {
   "cell_type": "markdown",
   "id": "b76ad2a8",
   "metadata": {},
   "source": [
    "### Importando bases de datos"
   ]
  },
  {
   "cell_type": "code",
   "execution_count": 2,
   "id": "21f07572",
   "metadata": {},
   "outputs": [],
   "source": [
    "# importando archivos json\n",
    "json_file0 = open(\"C:/Users/c3318/Documents/GitHub/final_project_python/data/StreamingHistory0.json\", \"r\", encoding = \"utf-8\")\n",
    "json_file1 = open(\"C:/Users/c3318/Documents/GitHub/final_project_python/data/StreamingHistory1.json\", \"r\", encoding = \"utf-8\")\n",
    "json_file2 = open(\"C:/Users/c3318/Documents/GitHub/final_project_python/data/StreamingHistory2.json\", \"r\", encoding = \"utf-8\")"
   ]
  },
  {
   "cell_type": "code",
   "execution_count": 3,
   "id": "6d3d79f8",
   "metadata": {},
   "outputs": [],
   "source": [
    "music0 = json.load(json_file0)\n",
    "music1 = json.load(json_file1)\n",
    "music2 = json.load(json_file2)"
   ]
  },
  {
   "cell_type": "markdown",
   "id": "01c413a7",
   "metadata": {},
   "source": [
    "### Convirtiendo de diccionarios a dataframes"
   ]
  },
  {
   "cell_type": "code",
   "execution_count": 4,
   "id": "ec7e4dc0",
   "metadata": {},
   "outputs": [],
   "source": [
    "dataframe0 = pd.DataFrame.from_dict(music0)\n",
    "dataframe1 = pd.DataFrame.from_dict(music1)\n",
    "dataframe2 = pd.DataFrame.from_dict(music2)"
   ]
  },
  {
   "cell_type": "markdown",
   "id": "c7aa94f6",
   "metadata": {},
   "source": [
    "### Uniendo bases de datos"
   ]
  },
  {
   "cell_type": "code",
   "execution_count": 5,
   "id": "0c2b32ee",
   "metadata": {},
   "outputs": [],
   "source": [
    "df = [dataframe0, dataframe1, dataframe2]\n",
    "my_music = pd.concat(df)"
   ]
  },
  {
   "cell_type": "code",
   "execution_count": 6,
   "id": "c6a4b7bb",
   "metadata": {},
   "outputs": [
    {
     "data": {
      "text/html": [
       "<div>\n",
       "<style scoped>\n",
       "    .dataframe tbody tr th:only-of-type {\n",
       "        vertical-align: middle;\n",
       "    }\n",
       "\n",
       "    .dataframe tbody tr th {\n",
       "        vertical-align: top;\n",
       "    }\n",
       "\n",
       "    .dataframe thead th {\n",
       "        text-align: right;\n",
       "    }\n",
       "</style>\n",
       "<table border=\"1\" class=\"dataframe\">\n",
       "  <thead>\n",
       "    <tr style=\"text-align: right;\">\n",
       "      <th></th>\n",
       "      <th>endTime</th>\n",
       "      <th>artistName</th>\n",
       "      <th>trackName</th>\n",
       "      <th>msPlayed</th>\n",
       "    </tr>\n",
       "  </thead>\n",
       "  <tbody>\n",
       "    <tr>\n",
       "      <th>0</th>\n",
       "      <td>2021-02-27 01:01</td>\n",
       "      <td>Indigo la End</td>\n",
       "      <td>緑の少女</td>\n",
       "      <td>103913</td>\n",
       "    </tr>\n",
       "    <tr>\n",
       "      <th>1</th>\n",
       "      <td>2021-03-05 21:18</td>\n",
       "      <td>Northern Lights</td>\n",
       "      <td>Forever Still</td>\n",
       "      <td>116897</td>\n",
       "    </tr>\n",
       "    <tr>\n",
       "      <th>2</th>\n",
       "      <td>2021-03-06 19:48</td>\n",
       "      <td>Splendora</td>\n",
       "      <td>Daria (Official MTV Theme)</td>\n",
       "      <td>38825</td>\n",
       "    </tr>\n",
       "    <tr>\n",
       "      <th>3</th>\n",
       "      <td>2021-03-06 20:02</td>\n",
       "      <td>Dishwalla</td>\n",
       "      <td>Charlie Brown's Parents</td>\n",
       "      <td>215220</td>\n",
       "    </tr>\n",
       "    <tr>\n",
       "      <th>4</th>\n",
       "      <td>2021-03-07 16:24</td>\n",
       "      <td>The Offspring</td>\n",
       "      <td>I Choose</td>\n",
       "      <td>234666</td>\n",
       "    </tr>\n",
       "    <tr>\n",
       "      <th>...</th>\n",
       "      <td>...</td>\n",
       "      <td>...</td>\n",
       "      <td>...</td>\n",
       "      <td>...</td>\n",
       "    </tr>\n",
       "    <tr>\n",
       "      <th>2414</th>\n",
       "      <td>2022-03-06 23:31</td>\n",
       "      <td>Yiyo Sarante</td>\n",
       "      <td>Corazon de Acero</td>\n",
       "      <td>225933</td>\n",
       "    </tr>\n",
       "    <tr>\n",
       "      <th>2415</th>\n",
       "      <td>2022-03-06 23:38</td>\n",
       "      <td>Eddie Santiago</td>\n",
       "      <td>Mía</td>\n",
       "      <td>14966</td>\n",
       "    </tr>\n",
       "    <tr>\n",
       "      <th>2416</th>\n",
       "      <td>2022-03-06 23:38</td>\n",
       "      <td>Adolescent's Orquesta</td>\n",
       "      <td>Anhelo</td>\n",
       "      <td>248555</td>\n",
       "    </tr>\n",
       "    <tr>\n",
       "      <th>2417</th>\n",
       "      <td>2022-03-06 23:43</td>\n",
       "      <td>Frankie Ruiz</td>\n",
       "      <td>Tú Con Él</td>\n",
       "      <td>302253</td>\n",
       "    </tr>\n",
       "    <tr>\n",
       "      <th>2418</th>\n",
       "      <td>2022-03-06 23:51</td>\n",
       "      <td>Galy Galiano</td>\n",
       "      <td>La Cita</td>\n",
       "      <td>438026</td>\n",
       "    </tr>\n",
       "  </tbody>\n",
       "</table>\n",
       "<p>22419 rows × 4 columns</p>\n",
       "</div>"
      ],
      "text/plain": [
       "               endTime             artistName                   trackName  \\\n",
       "0     2021-02-27 01:01          Indigo la End                        緑の少女   \n",
       "1     2021-03-05 21:18        Northern Lights               Forever Still   \n",
       "2     2021-03-06 19:48              Splendora  Daria (Official MTV Theme)   \n",
       "3     2021-03-06 20:02              Dishwalla     Charlie Brown's Parents   \n",
       "4     2021-03-07 16:24          The Offspring                    I Choose   \n",
       "...                ...                    ...                         ...   \n",
       "2414  2022-03-06 23:31           Yiyo Sarante            Corazon de Acero   \n",
       "2415  2022-03-06 23:38         Eddie Santiago                         Mía   \n",
       "2416  2022-03-06 23:38  Adolescent's Orquesta                      Anhelo   \n",
       "2417  2022-03-06 23:43           Frankie Ruiz                   Tú Con Él   \n",
       "2418  2022-03-06 23:51           Galy Galiano                     La Cita   \n",
       "\n",
       "      msPlayed  \n",
       "0       103913  \n",
       "1       116897  \n",
       "2        38825  \n",
       "3       215220  \n",
       "4       234666  \n",
       "...        ...  \n",
       "2414    225933  \n",
       "2415     14966  \n",
       "2416    248555  \n",
       "2417    302253  \n",
       "2418    438026  \n",
       "\n",
       "[22419 rows x 4 columns]"
      ]
     },
     "execution_count": 6,
     "metadata": {},
     "output_type": "execute_result"
    }
   ],
   "source": [
    "my_music"
   ]
  },
  {
   "cell_type": "code",
   "execution_count": 7,
   "id": "53bb9bc1",
   "metadata": {},
   "outputs": [
    {
     "name": "stdout",
     "output_type": "stream",
     "text": [
      "<class 'pandas.core.frame.DataFrame'>\n",
      "Int64Index: 22419 entries, 0 to 2418\n",
      "Data columns (total 4 columns):\n",
      " #   Column      Non-Null Count  Dtype \n",
      "---  ------      --------------  ----- \n",
      " 0   endTime     22419 non-null  object\n",
      " 1   artistName  22419 non-null  object\n",
      " 2   trackName   22419 non-null  object\n",
      " 3   msPlayed    22419 non-null  int64 \n",
      "dtypes: int64(1), object(3)\n",
      "memory usage: 875.7+ KB\n"
     ]
    }
   ],
   "source": [
    "#información sobre la base de datos\n",
    "my_music.info() # no hay valores nulos"
   ]
  },
  {
   "cell_type": "code",
   "execution_count": 8,
   "id": "e40f7d4e",
   "metadata": {},
   "outputs": [
    {
     "data": {
      "text/plain": [
       "Index(['endTime', 'artistName', 'trackName', 'msPlayed'], dtype='object')"
      ]
     },
     "execution_count": 8,
     "metadata": {},
     "output_type": "execute_result"
    }
   ],
   "source": [
    "my_music.columns"
   ]
  },
  {
   "cell_type": "markdown",
   "id": "7a26a455",
   "metadata": {},
   "source": [
    "### renombrando columnas"
   ]
  },
  {
   "cell_type": "code",
   "execution_count": 9,
   "id": "010897d2",
   "metadata": {},
   "outputs": [],
   "source": [
    "my_music = my_music.rename({'artistName':'artista'}, axis =1)\n",
    "my_music = my_music.rename({'endTime':'fecha-hora'}, axis =1)\n",
    "my_music = my_music.rename({'trackName':'cancion'}, axis =1)"
   ]
  },
  {
   "cell_type": "markdown",
   "id": "42bbf59d",
   "metadata": {},
   "source": [
    "### convirtiendo estas columnas a string"
   ]
  },
  {
   "cell_type": "code",
   "execution_count": 10,
   "id": "2713c4d0",
   "metadata": {},
   "outputs": [],
   "source": [
    "my_music['artista'] = my_music['artista'].astype(str)\n",
    "my_music['fecha-hora'] = my_music['fecha-hora'].astype(str)\n",
    "my_music['cancion'] = my_music['cancion'].astype(str)"
   ]
  },
  {
   "cell_type": "code",
   "execution_count": 11,
   "id": "5cc68870",
   "metadata": {},
   "outputs": [
    {
     "data": {
      "text/plain": [
       "Index(['fecha-hora', 'artista', 'cancion', 'msPlayed'], dtype='object')"
      ]
     },
     "execution_count": 11,
     "metadata": {},
     "output_type": "execute_result"
    }
   ],
   "source": [
    "my_music.columns"
   ]
  },
  {
   "cell_type": "code",
   "execution_count": 12,
   "id": "f984f911",
   "metadata": {},
   "outputs": [
    {
     "data": {
      "text/plain": [
       "fecha-hora    object\n",
       "artista       object\n",
       "cancion       object\n",
       "msPlayed       int64\n",
       "dtype: object"
      ]
     },
     "execution_count": 12,
     "metadata": {},
     "output_type": "execute_result"
    }
   ],
   "source": [
    "my_music.dtypes #observamos que ya son objetos"
   ]
  },
  {
   "cell_type": "markdown",
   "id": "51cbad78",
   "metadata": {},
   "source": [
    "### Convirtiendo milisegundos en minutos\n",
    "La variable **msPlayed** almacena la cantidad de milisegundo que hay por cada canción"
   ]
  },
  {
   "cell_type": "code",
   "execution_count": 13,
   "id": "cd1d6ee3",
   "metadata": {},
   "outputs": [],
   "source": [
    "def minutos(mili):\n",
    "    '''\n",
    "    minutos: transforma milisegundos a minutos\n",
    "    '''\n",
    "    minut = mili/60000\n",
    "    return minut"
   ]
  },
  {
   "cell_type": "code",
   "execution_count": 14,
   "id": "03d76e04",
   "metadata": {},
   "outputs": [],
   "source": [
    "# se crea la variable minutos \n",
    "my_music['minutos'] = my_music['msPlayed'].apply(lambda x: minutos(x))"
   ]
  },
  {
   "cell_type": "code",
   "execution_count": 15,
   "id": "3debf4dc",
   "metadata": {},
   "outputs": [
    {
     "data": {
      "text/html": [
       "<div>\n",
       "<style scoped>\n",
       "    .dataframe tbody tr th:only-of-type {\n",
       "        vertical-align: middle;\n",
       "    }\n",
       "\n",
       "    .dataframe tbody tr th {\n",
       "        vertical-align: top;\n",
       "    }\n",
       "\n",
       "    .dataframe thead th {\n",
       "        text-align: right;\n",
       "    }\n",
       "</style>\n",
       "<table border=\"1\" class=\"dataframe\">\n",
       "  <thead>\n",
       "    <tr style=\"text-align: right;\">\n",
       "      <th></th>\n",
       "      <th>minutos</th>\n",
       "      <th>msPlayed</th>\n",
       "    </tr>\n",
       "  </thead>\n",
       "  <tbody>\n",
       "    <tr>\n",
       "      <th>0</th>\n",
       "      <td>1.731883</td>\n",
       "      <td>103913</td>\n",
       "    </tr>\n",
       "    <tr>\n",
       "      <th>1</th>\n",
       "      <td>1.948283</td>\n",
       "      <td>116897</td>\n",
       "    </tr>\n",
       "    <tr>\n",
       "      <th>2</th>\n",
       "      <td>0.647083</td>\n",
       "      <td>38825</td>\n",
       "    </tr>\n",
       "    <tr>\n",
       "      <th>3</th>\n",
       "      <td>3.587000</td>\n",
       "      <td>215220</td>\n",
       "    </tr>\n",
       "    <tr>\n",
       "      <th>4</th>\n",
       "      <td>3.911100</td>\n",
       "      <td>234666</td>\n",
       "    </tr>\n",
       "    <tr>\n",
       "      <th>...</th>\n",
       "      <td>...</td>\n",
       "      <td>...</td>\n",
       "    </tr>\n",
       "    <tr>\n",
       "      <th>2414</th>\n",
       "      <td>3.765550</td>\n",
       "      <td>225933</td>\n",
       "    </tr>\n",
       "    <tr>\n",
       "      <th>2415</th>\n",
       "      <td>0.249433</td>\n",
       "      <td>14966</td>\n",
       "    </tr>\n",
       "    <tr>\n",
       "      <th>2416</th>\n",
       "      <td>4.142583</td>\n",
       "      <td>248555</td>\n",
       "    </tr>\n",
       "    <tr>\n",
       "      <th>2417</th>\n",
       "      <td>5.037550</td>\n",
       "      <td>302253</td>\n",
       "    </tr>\n",
       "    <tr>\n",
       "      <th>2418</th>\n",
       "      <td>7.300433</td>\n",
       "      <td>438026</td>\n",
       "    </tr>\n",
       "  </tbody>\n",
       "</table>\n",
       "<p>22419 rows × 2 columns</p>\n",
       "</div>"
      ],
      "text/plain": [
       "       minutos  msPlayed\n",
       "0     1.731883    103913\n",
       "1     1.948283    116897\n",
       "2     0.647083     38825\n",
       "3     3.587000    215220\n",
       "4     3.911100    234666\n",
       "...        ...       ...\n",
       "2414  3.765550    225933\n",
       "2415  0.249433     14966\n",
       "2416  4.142583    248555\n",
       "2417  5.037550    302253\n",
       "2418  7.300433    438026\n",
       "\n",
       "[22419 rows x 2 columns]"
      ]
     },
     "execution_count": 15,
     "metadata": {},
     "output_type": "execute_result"
    }
   ],
   "source": [
    "my_music[['minutos', 'msPlayed']]"
   ]
  },
  {
   "cell_type": "markdown",
   "id": "92568b95",
   "metadata": {},
   "source": [
    "### Convirtiendo milisegundos en horas"
   ]
  },
  {
   "cell_type": "code",
   "execution_count": 16,
   "id": "897cf1f6",
   "metadata": {},
   "outputs": [],
   "source": [
    "def horas(mili):\n",
    "    '''\n",
    "    minutos: transforma milisegundos a minutos\n",
    "    '''\n",
    "    hora = mili/3600000\n",
    "    return hora"
   ]
  },
  {
   "cell_type": "code",
   "execution_count": 17,
   "id": "d6338fa4",
   "metadata": {},
   "outputs": [],
   "source": [
    "# se crea la variable horas\n",
    "my_music['horas'] = my_music['msPlayed'].apply(lambda x: horas(x))"
   ]
  },
  {
   "cell_type": "code",
   "execution_count": 18,
   "id": "d28272d0",
   "metadata": {},
   "outputs": [
    {
     "data": {
      "text/html": [
       "<div>\n",
       "<style scoped>\n",
       "    .dataframe tbody tr th:only-of-type {\n",
       "        vertical-align: middle;\n",
       "    }\n",
       "\n",
       "    .dataframe tbody tr th {\n",
       "        vertical-align: top;\n",
       "    }\n",
       "\n",
       "    .dataframe thead th {\n",
       "        text-align: right;\n",
       "    }\n",
       "</style>\n",
       "<table border=\"1\" class=\"dataframe\">\n",
       "  <thead>\n",
       "    <tr style=\"text-align: right;\">\n",
       "      <th></th>\n",
       "      <th>horas</th>\n",
       "      <th>msPlayed</th>\n",
       "    </tr>\n",
       "  </thead>\n",
       "  <tbody>\n",
       "    <tr>\n",
       "      <th>0</th>\n",
       "      <td>0.028865</td>\n",
       "      <td>103913</td>\n",
       "    </tr>\n",
       "    <tr>\n",
       "      <th>1</th>\n",
       "      <td>0.032471</td>\n",
       "      <td>116897</td>\n",
       "    </tr>\n",
       "    <tr>\n",
       "      <th>2</th>\n",
       "      <td>0.010785</td>\n",
       "      <td>38825</td>\n",
       "    </tr>\n",
       "    <tr>\n",
       "      <th>3</th>\n",
       "      <td>0.059783</td>\n",
       "      <td>215220</td>\n",
       "    </tr>\n",
       "    <tr>\n",
       "      <th>4</th>\n",
       "      <td>0.065185</td>\n",
       "      <td>234666</td>\n",
       "    </tr>\n",
       "    <tr>\n",
       "      <th>...</th>\n",
       "      <td>...</td>\n",
       "      <td>...</td>\n",
       "    </tr>\n",
       "    <tr>\n",
       "      <th>2414</th>\n",
       "      <td>0.062759</td>\n",
       "      <td>225933</td>\n",
       "    </tr>\n",
       "    <tr>\n",
       "      <th>2415</th>\n",
       "      <td>0.004157</td>\n",
       "      <td>14966</td>\n",
       "    </tr>\n",
       "    <tr>\n",
       "      <th>2416</th>\n",
       "      <td>0.069043</td>\n",
       "      <td>248555</td>\n",
       "    </tr>\n",
       "    <tr>\n",
       "      <th>2417</th>\n",
       "      <td>0.083959</td>\n",
       "      <td>302253</td>\n",
       "    </tr>\n",
       "    <tr>\n",
       "      <th>2418</th>\n",
       "      <td>0.121674</td>\n",
       "      <td>438026</td>\n",
       "    </tr>\n",
       "  </tbody>\n",
       "</table>\n",
       "<p>22419 rows × 2 columns</p>\n",
       "</div>"
      ],
      "text/plain": [
       "         horas  msPlayed\n",
       "0     0.028865    103913\n",
       "1     0.032471    116897\n",
       "2     0.010785     38825\n",
       "3     0.059783    215220\n",
       "4     0.065185    234666\n",
       "...        ...       ...\n",
       "2414  0.062759    225933\n",
       "2415  0.004157     14966\n",
       "2416  0.069043    248555\n",
       "2417  0.083959    302253\n",
       "2418  0.121674    438026\n",
       "\n",
       "[22419 rows x 2 columns]"
      ]
     },
     "execution_count": 18,
     "metadata": {},
     "output_type": "execute_result"
    }
   ],
   "source": [
    "my_music[['horas', 'msPlayed']]"
   ]
  },
  {
   "cell_type": "markdown",
   "id": "69763fb2",
   "metadata": {},
   "source": [
    "#### Se observa que hay varios artistas y canciones repetidas en la base de datos"
   ]
  },
  {
   "cell_type": "code",
   "execution_count": 19,
   "id": "13770db7",
   "metadata": {},
   "outputs": [],
   "source": [
    "my_music['contador'] = 1"
   ]
  },
  {
   "cell_type": "code",
   "execution_count": 20,
   "id": "b104b1d2",
   "metadata": {},
   "outputs": [],
   "source": [
    "my_music = my_music.sort_values(by = ['artista'])"
   ]
  },
  {
   "cell_type": "code",
   "execution_count": 21,
   "id": "963c1067",
   "metadata": {},
   "outputs": [
    {
     "data": {
      "text/html": [
       "<div>\n",
       "<style scoped>\n",
       "    .dataframe tbody tr th:only-of-type {\n",
       "        vertical-align: middle;\n",
       "    }\n",
       "\n",
       "    .dataframe tbody tr th {\n",
       "        vertical-align: top;\n",
       "    }\n",
       "\n",
       "    .dataframe thead th {\n",
       "        text-align: right;\n",
       "    }\n",
       "</style>\n",
       "<table border=\"1\" class=\"dataframe\">\n",
       "  <thead>\n",
       "    <tr style=\"text-align: right;\">\n",
       "      <th></th>\n",
       "      <th>fecha-hora</th>\n",
       "      <th>artista</th>\n",
       "      <th>cancion</th>\n",
       "      <th>msPlayed</th>\n",
       "      <th>minutos</th>\n",
       "      <th>horas</th>\n",
       "      <th>contador</th>\n",
       "    </tr>\n",
       "  </thead>\n",
       "  <tbody>\n",
       "    <tr>\n",
       "      <th>9845</th>\n",
       "      <td>2021-07-25 19:56</td>\n",
       "      <td>*NSYNC</td>\n",
       "      <td>Bye Bye Bye</td>\n",
       "      <td>200333</td>\n",
       "      <td>3.338883</td>\n",
       "      <td>0.055648</td>\n",
       "      <td>1</td>\n",
       "    </tr>\n",
       "    <tr>\n",
       "      <th>182</th>\n",
       "      <td>2021-08-04 18:28</td>\n",
       "      <td>*NSYNC</td>\n",
       "      <td>Yo Te Voy A Amar - Radio Edit</td>\n",
       "      <td>266240</td>\n",
       "      <td>4.437333</td>\n",
       "      <td>0.073956</td>\n",
       "      <td>1</td>\n",
       "    </tr>\n",
       "    <tr>\n",
       "      <th>9854</th>\n",
       "      <td>2021-07-25 20:38</td>\n",
       "      <td>*NSYNC</td>\n",
       "      <td>Yo Te Voy A Amar - Radio Edit</td>\n",
       "      <td>135796</td>\n",
       "      <td>2.263267</td>\n",
       "      <td>0.037721</td>\n",
       "      <td>1</td>\n",
       "    </tr>\n",
       "    <tr>\n",
       "      <th>1299</th>\n",
       "      <td>2022-02-23 23:00</td>\n",
       "      <td>*NSYNC</td>\n",
       "      <td>Yo Te Voy A Amar - Radio Edit</td>\n",
       "      <td>266240</td>\n",
       "      <td>4.437333</td>\n",
       "      <td>0.073956</td>\n",
       "      <td>1</td>\n",
       "    </tr>\n",
       "    <tr>\n",
       "      <th>1971</th>\n",
       "      <td>2021-08-26 01:25</td>\n",
       "      <td>*NSYNC</td>\n",
       "      <td>Bye Bye Bye</td>\n",
       "      <td>3462</td>\n",
       "      <td>0.057700</td>\n",
       "      <td>0.000962</td>\n",
       "      <td>1</td>\n",
       "    </tr>\n",
       "    <tr>\n",
       "      <th>...</th>\n",
       "      <td>...</td>\n",
       "      <td>...</td>\n",
       "      <td>...</td>\n",
       "      <td>...</td>\n",
       "      <td>...</td>\n",
       "      <td>...</td>\n",
       "      <td>...</td>\n",
       "    </tr>\n",
       "    <tr>\n",
       "      <th>4463</th>\n",
       "      <td>2021-05-18 02:12</td>\n",
       "      <td>渕上 舞</td>\n",
       "      <td>Crossing Road</td>\n",
       "      <td>310253</td>\n",
       "      <td>5.170883</td>\n",
       "      <td>0.086181</td>\n",
       "      <td>1</td>\n",
       "    </tr>\n",
       "    <tr>\n",
       "      <th>4464</th>\n",
       "      <td>2021-05-18 02:18</td>\n",
       "      <td>渕上 舞</td>\n",
       "      <td>Crossing Road</td>\n",
       "      <td>24409</td>\n",
       "      <td>0.406817</td>\n",
       "      <td>0.006780</td>\n",
       "      <td>1</td>\n",
       "    </tr>\n",
       "    <tr>\n",
       "      <th>4439</th>\n",
       "      <td>2021-05-17 20:10</td>\n",
       "      <td>渕上 舞</td>\n",
       "      <td>Crossing Road</td>\n",
       "      <td>111010</td>\n",
       "      <td>1.850167</td>\n",
       "      <td>0.030836</td>\n",
       "      <td>1</td>\n",
       "    </tr>\n",
       "    <tr>\n",
       "      <th>4465</th>\n",
       "      <td>2021-05-18 02:18</td>\n",
       "      <td>渕上 舞</td>\n",
       "      <td>Crossing Road</td>\n",
       "      <td>310253</td>\n",
       "      <td>5.170883</td>\n",
       "      <td>0.086181</td>\n",
       "      <td>1</td>\n",
       "    </tr>\n",
       "    <tr>\n",
       "      <th>5897</th>\n",
       "      <td>2021-11-23 14:22</td>\n",
       "      <td>２８１４</td>\n",
       "      <td>恢复</td>\n",
       "      <td>147766</td>\n",
       "      <td>2.462767</td>\n",
       "      <td>0.041046</td>\n",
       "      <td>1</td>\n",
       "    </tr>\n",
       "  </tbody>\n",
       "</table>\n",
       "<p>22419 rows × 7 columns</p>\n",
       "</div>"
      ],
      "text/plain": [
       "            fecha-hora artista                        cancion  msPlayed  \\\n",
       "9845  2021-07-25 19:56  *NSYNC                    Bye Bye Bye    200333   \n",
       "182   2021-08-04 18:28  *NSYNC  Yo Te Voy A Amar - Radio Edit    266240   \n",
       "9854  2021-07-25 20:38  *NSYNC  Yo Te Voy A Amar - Radio Edit    135796   \n",
       "1299  2022-02-23 23:00  *NSYNC  Yo Te Voy A Amar - Radio Edit    266240   \n",
       "1971  2021-08-26 01:25  *NSYNC                    Bye Bye Bye      3462   \n",
       "...                ...     ...                            ...       ...   \n",
       "4463  2021-05-18 02:12    渕上 舞                  Crossing Road    310253   \n",
       "4464  2021-05-18 02:18    渕上 舞                  Crossing Road     24409   \n",
       "4439  2021-05-17 20:10    渕上 舞                  Crossing Road    111010   \n",
       "4465  2021-05-18 02:18    渕上 舞                  Crossing Road    310253   \n",
       "5897  2021-11-23 14:22    ２８１４                             恢复    147766   \n",
       "\n",
       "       minutos     horas  contador  \n",
       "9845  3.338883  0.055648         1  \n",
       "182   4.437333  0.073956         1  \n",
       "9854  2.263267  0.037721         1  \n",
       "1299  4.437333  0.073956         1  \n",
       "1971  0.057700  0.000962         1  \n",
       "...        ...       ...       ...  \n",
       "4463  5.170883  0.086181         1  \n",
       "4464  0.406817  0.006780         1  \n",
       "4439  1.850167  0.030836         1  \n",
       "4465  5.170883  0.086181         1  \n",
       "5897  2.462767  0.041046         1  \n",
       "\n",
       "[22419 rows x 7 columns]"
      ]
     },
     "execution_count": 21,
     "metadata": {},
     "output_type": "execute_result"
    }
   ],
   "source": [
    "my_music \n",
    "# se observa que hay varios artistas y canciones repetidas"
   ]
  },
  {
   "cell_type": "markdown",
   "id": "aa1abf63",
   "metadata": {},
   "source": [
    "### Artista mas escuchada\n",
    "La artistas más escuchada de **Taylor Swift**."
   ]
  },
  {
   "cell_type": "markdown",
   "id": "1cf74a51",
   "metadata": {},
   "source": [
    "<img src=\"Taylor_Swift.webp\" width=\"500\">"
   ]
  },
  {
   "cell_type": "code",
   "execution_count": 22,
   "id": "06c7e27d",
   "metadata": {},
   "outputs": [
    {
     "data": {
      "text/plain": [
       "Taylor Swift     1320\n",
       "L'Impératrice     601\n",
       "Bruno Mars        578\n",
       "Kali Uchis        546\n",
       "Ariana Grande     503\n",
       "                 ... \n",
       "Kiana Ledé          1\n",
       "Khalid              1\n",
       "Keyshia Cole        1\n",
       "Kevin Penkin        1\n",
       "２８１４                1\n",
       "Name: artista, Length: 2121, dtype: int64"
      ]
     },
     "execution_count": 22,
     "metadata": {},
     "output_type": "execute_result"
    }
   ],
   "source": [
    "my_music['artista'].value_counts()"
   ]
  },
  {
   "cell_type": "markdown",
   "id": "653bc4aa",
   "metadata": {},
   "source": [
    "### Canción más escuchada\n",
    "\n",
    "Mi canción más escuchada durante el último año fue **Leave The Door Open - Silk Sonic**."
   ]
  },
  {
   "cell_type": "markdown",
   "id": "77db28bf",
   "metadata": {},
   "source": [
    "<img src=\"leave_the_door_open.png\" width=\"500\">"
   ]
  },
  {
   "cell_type": "code",
   "execution_count": 23,
   "id": "a55e2cb6",
   "metadata": {},
   "outputs": [
    {
     "data": {
      "text/plain": [
       "Leave The Door Open                     0.010527\n",
       "drivers license                         0.006468\n",
       "Barcelona Night                         0.006289\n",
       "Bam Bam (feat. Ed Sheeran)              0.005754\n",
       "LALISA                                  0.004773\n",
       "                                          ...   \n",
       "Las Voces                               0.000045\n",
       "Despacio - Bonus Track Migra            0.000045\n",
       "Tenue                                   0.000045\n",
       "El Mismo Café - Migra Sesión En Vivo    0.000045\n",
       "恢复                                      0.000045\n",
       "Name: cancion, Length: 5754, dtype: float64"
      ]
     },
     "execution_count": 23,
     "metadata": {},
     "output_type": "execute_result"
    }
   ],
   "source": [
    "#cancion mas escuchada en frecuencia\n",
    "my_music['cancion'].value_counts(normalize = True)"
   ]
  },
  {
   "cell_type": "code",
   "execution_count": 24,
   "id": "066488ac",
   "metadata": {},
   "outputs": [
    {
     "data": {
      "text/plain": [
       "Leave The Door Open                     236\n",
       "drivers license                         145\n",
       "Barcelona Night                         141\n",
       "Bam Bam (feat. Ed Sheeran)              129\n",
       "LALISA                                  107\n",
       "                                       ... \n",
       "Las Voces                                 1\n",
       "Despacio - Bonus Track Migra              1\n",
       "Tenue                                     1\n",
       "El Mismo Café - Migra Sesión En Vivo      1\n",
       "恢复                                        1\n",
       "Name: cancion, Length: 5754, dtype: int64"
      ]
     },
     "execution_count": 24,
     "metadata": {},
     "output_type": "execute_result"
    }
   ],
   "source": [
    "# cancion mas escuchada\n",
    "my_music['cancion'].value_counts()"
   ]
  },
  {
   "cell_type": "markdown",
   "id": "2f7fa20b",
   "metadata": {},
   "source": [
    "## Subset: Taylor Swift\n",
    "Mi objetivo es saber qué tanto escuché a Taylor Swift durante el último año"
   ]
  },
  {
   "cell_type": "code",
   "execution_count": 25,
   "id": "81f8a9fd",
   "metadata": {},
   "outputs": [],
   "source": [
    "# subset para Taylor Swift\n",
    "swiftie = my_music[(my_music[\"artista\"] == 'Taylor Swift')]"
   ]
  },
  {
   "cell_type": "code",
   "execution_count": 26,
   "id": "8eec17d2",
   "metadata": {},
   "outputs": [
    {
     "data": {
      "text/plain": [
       "(1320, 7)"
      ]
     },
     "execution_count": 26,
     "metadata": {},
     "output_type": "execute_result"
    }
   ],
   "source": [
    "swiftie.shape"
   ]
  },
  {
   "cell_type": "markdown",
   "id": "856d6900",
   "metadata": {},
   "source": [
    "### Canciones mas escuchadas de Taylor Swift\n",
    "La canción más escuchada de Taylor Swift, durante el último año, fue **I Did Something Bad - Reputation**. "
   ]
  },
  {
   "cell_type": "markdown",
   "id": "a7b5b248",
   "metadata": {},
   "source": [
    "<img src = \"did_something_bad.jpg\" width = \"500\">"
   ]
  },
  {
   "cell_type": "code",
   "execution_count": 27,
   "id": "4d811f8c",
   "metadata": {},
   "outputs": [
    {
     "data": {
      "text/plain": [
       "I Did Something Bad                              58\n",
       "Cruel Summer                                     57\n",
       "This Is Why We Can't Have Nice Things            49\n",
       "Look What You Made Me Do                         44\n",
       "Delicate                                         44\n",
       "                                                 ..\n",
       "Welcome To New York                               1\n",
       "Breathe                                           1\n",
       "Superstar (Taylor’s Version)                      1\n",
       "The Other Side Of The Door (Taylor’s Version)     1\n",
       "State Of Grace - Acoustic                         1\n",
       "Name: cancion, Length: 145, dtype: int64"
      ]
     },
     "execution_count": 27,
     "metadata": {},
     "output_type": "execute_result"
    }
   ],
   "source": [
    "swiftie['cancion'].value_counts() "
   ]
  },
  {
   "cell_type": "markdown",
   "id": "32dbc055",
   "metadata": {},
   "source": [
    "## Subset: base de datos colapsada por artistas"
   ]
  },
  {
   "cell_type": "code",
   "execution_count": 28,
   "id": "e2e2600c",
   "metadata": {},
   "outputs": [],
   "source": [
    "music_by_artist = my_music.groupby('artista').sum()"
   ]
  },
  {
   "cell_type": "code",
   "execution_count": 29,
   "id": "439a9877",
   "metadata": {},
   "outputs": [],
   "source": [
    "#hago que la variable artista deja de ser indice y pase a ser una columna\n",
    "music_by_artist.reset_index(inplace = True)\n",
    "music_by_artist = music_by_artist.rename(columns = {'index':'artista'})"
   ]
  },
  {
   "cell_type": "code",
   "execution_count": 30,
   "id": "6cdcd5cc",
   "metadata": {},
   "outputs": [
    {
     "data": {
      "text/plain": [
       "Index(['artista', 'msPlayed', 'minutos', 'horas', 'contador'], dtype='object')"
      ]
     },
     "execution_count": 30,
     "metadata": {},
     "output_type": "execute_result"
    }
   ],
   "source": [
    "music_by_artist.columns"
   ]
  },
  {
   "cell_type": "code",
   "execution_count": 31,
   "id": "af09c1bd",
   "metadata": {},
   "outputs": [
    {
     "data": {
      "text/plain": [
       "artista      object\n",
       "msPlayed      int64\n",
       "minutos     float64\n",
       "horas       float64\n",
       "contador      int64\n",
       "dtype: object"
      ]
     },
     "execution_count": 31,
     "metadata": {},
     "output_type": "execute_result"
    }
   ],
   "source": [
    "music_by_artist.dtypes"
   ]
  },
  {
   "cell_type": "code",
   "execution_count": 32,
   "id": "85798f65",
   "metadata": {},
   "outputs": [
    {
     "data": {
      "text/plain": [
       "3931.8183"
      ]
     },
     "execution_count": 32,
     "metadata": {},
     "output_type": "execute_result"
    }
   ],
   "source": [
    "music_by_artist['minutos'].max() # cantidad de minutos que escuché Leave the door open"
   ]
  },
  {
   "cell_type": "code",
   "execution_count": 33,
   "id": "e84633d7",
   "metadata": {},
   "outputs": [],
   "source": [
    "#redondeando valores de las horas escuchadas\n",
    "music_by_artist['horas_redondeado'] = np.ceil(music_by_artist['horas'])"
   ]
  },
  {
   "cell_type": "code",
   "execution_count": 34,
   "id": "66ff91d5",
   "metadata": {},
   "outputs": [
    {
     "data": {
      "text/html": [
       "<div>\n",
       "<style scoped>\n",
       "    .dataframe tbody tr th:only-of-type {\n",
       "        vertical-align: middle;\n",
       "    }\n",
       "\n",
       "    .dataframe tbody tr th {\n",
       "        vertical-align: top;\n",
       "    }\n",
       "\n",
       "    .dataframe thead th {\n",
       "        text-align: right;\n",
       "    }\n",
       "</style>\n",
       "<table border=\"1\" class=\"dataframe\">\n",
       "  <thead>\n",
       "    <tr style=\"text-align: right;\">\n",
       "      <th></th>\n",
       "      <th>artista</th>\n",
       "      <th>msPlayed</th>\n",
       "      <th>minutos</th>\n",
       "      <th>horas</th>\n",
       "      <th>contador</th>\n",
       "      <th>horas_redondeado</th>\n",
       "    </tr>\n",
       "  </thead>\n",
       "  <tbody>\n",
       "    <tr>\n",
       "      <th>0</th>\n",
       "      <td>*NSYNC</td>\n",
       "      <td>874798</td>\n",
       "      <td>14.579967</td>\n",
       "      <td>0.242999</td>\n",
       "      <td>6</td>\n",
       "      <td>1.0</td>\n",
       "    </tr>\n",
       "    <tr>\n",
       "      <th>1</th>\n",
       "      <td>.Sinh</td>\n",
       "      <td>10997</td>\n",
       "      <td>0.183283</td>\n",
       "      <td>0.003055</td>\n",
       "      <td>1</td>\n",
       "      <td>1.0</td>\n",
       "    </tr>\n",
       "    <tr>\n",
       "      <th>2</th>\n",
       "      <td>10cc</td>\n",
       "      <td>531389</td>\n",
       "      <td>8.856483</td>\n",
       "      <td>0.147608</td>\n",
       "      <td>2</td>\n",
       "      <td>1.0</td>\n",
       "    </tr>\n",
       "    <tr>\n",
       "      <th>3</th>\n",
       "      <td>16 bits</td>\n",
       "      <td>115550</td>\n",
       "      <td>1.925833</td>\n",
       "      <td>0.032097</td>\n",
       "      <td>1</td>\n",
       "      <td>1.0</td>\n",
       "    </tr>\n",
       "    <tr>\n",
       "      <th>4</th>\n",
       "      <td>1915</td>\n",
       "      <td>800279</td>\n",
       "      <td>13.337983</td>\n",
       "      <td>0.222300</td>\n",
       "      <td>4</td>\n",
       "      <td>1.0</td>\n",
       "    </tr>\n",
       "    <tr>\n",
       "      <th>...</th>\n",
       "      <td>...</td>\n",
       "      <td>...</td>\n",
       "      <td>...</td>\n",
       "      <td>...</td>\n",
       "      <td>...</td>\n",
       "      <td>...</td>\n",
       "    </tr>\n",
       "    <tr>\n",
       "      <th>2116</th>\n",
       "      <td>大原ゆい子</td>\n",
       "      <td>251453</td>\n",
       "      <td>4.190883</td>\n",
       "      <td>0.069848</td>\n",
       "      <td>1</td>\n",
       "      <td>1.0</td>\n",
       "    </tr>\n",
       "    <tr>\n",
       "      <th>2117</th>\n",
       "      <td>松司馬拓指揮 Ensemble FOVE</td>\n",
       "      <td>5440197</td>\n",
       "      <td>90.669950</td>\n",
       "      <td>1.511166</td>\n",
       "      <td>37</td>\n",
       "      <td>2.0</td>\n",
       "    </tr>\n",
       "    <tr>\n",
       "      <th>2118</th>\n",
       "      <td>水戸郁魅(CV.石上静香)</td>\n",
       "      <td>28510</td>\n",
       "      <td>0.475167</td>\n",
       "      <td>0.007919</td>\n",
       "      <td>2</td>\n",
       "      <td>1.0</td>\n",
       "    </tr>\n",
       "    <tr>\n",
       "      <th>2119</th>\n",
       "      <td>渕上 舞</td>\n",
       "      <td>1066178</td>\n",
       "      <td>17.769633</td>\n",
       "      <td>0.296161</td>\n",
       "      <td>5</td>\n",
       "      <td>1.0</td>\n",
       "    </tr>\n",
       "    <tr>\n",
       "      <th>2120</th>\n",
       "      <td>２８１４</td>\n",
       "      <td>147766</td>\n",
       "      <td>2.462767</td>\n",
       "      <td>0.041046</td>\n",
       "      <td>1</td>\n",
       "      <td>1.0</td>\n",
       "    </tr>\n",
       "  </tbody>\n",
       "</table>\n",
       "<p>2121 rows × 6 columns</p>\n",
       "</div>"
      ],
      "text/plain": [
       "                   artista  msPlayed    minutos     horas  contador  \\\n",
       "0                   *NSYNC    874798  14.579967  0.242999         6   \n",
       "1                    .Sinh     10997   0.183283  0.003055         1   \n",
       "2                     10cc    531389   8.856483  0.147608         2   \n",
       "3                  16 bits    115550   1.925833  0.032097         1   \n",
       "4                     1915    800279  13.337983  0.222300         4   \n",
       "...                    ...       ...        ...       ...       ...   \n",
       "2116                 大原ゆい子    251453   4.190883  0.069848         1   \n",
       "2117  松司馬拓指揮 Ensemble FOVE   5440197  90.669950  1.511166        37   \n",
       "2118         水戸郁魅(CV.石上静香)     28510   0.475167  0.007919         2   \n",
       "2119                  渕上 舞   1066178  17.769633  0.296161         5   \n",
       "2120                  ２８１４    147766   2.462767  0.041046         1   \n",
       "\n",
       "      horas_redondeado  \n",
       "0                  1.0  \n",
       "1                  1.0  \n",
       "2                  1.0  \n",
       "3                  1.0  \n",
       "4                  1.0  \n",
       "...                ...  \n",
       "2116               1.0  \n",
       "2117               2.0  \n",
       "2118               1.0  \n",
       "2119               1.0  \n",
       "2120               1.0  \n",
       "\n",
       "[2121 rows x 6 columns]"
      ]
     },
     "execution_count": 34,
     "metadata": {},
     "output_type": "execute_result"
    }
   ],
   "source": [
    "music_by_artist"
   ]
  },
  {
   "cell_type": "markdown",
   "id": "9f049252",
   "metadata": {},
   "source": [
    "## Subset: base de datos colapsada por canciones de Taylor Swift"
   ]
  },
  {
   "cell_type": "code",
   "execution_count": 35,
   "id": "36d4e1d4",
   "metadata": {},
   "outputs": [],
   "source": [
    "swiftie_by_song = swiftie.groupby('cancion').sum()"
   ]
  },
  {
   "cell_type": "code",
   "execution_count": 36,
   "id": "7c4f6474",
   "metadata": {},
   "outputs": [],
   "source": [
    "#hago que la variable cancion deja de ser indice y pase a ser una columna\n",
    "swiftie_by_song.reset_index(inplace=True)\n",
    "swiftie_by_song = swiftie_by_song.rename(columns = {'index':'cancion'})"
   ]
  },
  {
   "cell_type": "code",
   "execution_count": 37,
   "id": "687bfacf",
   "metadata": {},
   "outputs": [
    {
     "data": {
      "text/plain": [
       "Index(['cancion', 'msPlayed', 'minutos', 'horas', 'contador'], dtype='object')"
      ]
     },
     "execution_count": 37,
     "metadata": {},
     "output_type": "execute_result"
    }
   ],
   "source": [
    "swiftie_by_song.columns"
   ]
  },
  {
   "cell_type": "code",
   "execution_count": 38,
   "id": "1cf96962",
   "metadata": {},
   "outputs": [
    {
     "data": {
      "text/plain": [
       "cancion      object\n",
       "msPlayed      int64\n",
       "minutos     float64\n",
       "horas       float64\n",
       "contador      int64\n",
       "dtype: object"
      ]
     },
     "execution_count": 38,
     "metadata": {},
     "output_type": "execute_result"
    }
   ],
   "source": [
    "swiftie_by_song.dtypes"
   ]
  },
  {
   "cell_type": "markdown",
   "id": "c0c9f413",
   "metadata": {},
   "source": [
    "## 15 Canciones mas escuchadas "
   ]
  },
  {
   "cell_type": "code",
   "execution_count": 39,
   "id": "ce530474",
   "metadata": {},
   "outputs": [],
   "source": [
    "my_music_by_song = my_music.groupby('cancion').sum()\n",
    "my_music_by_song.reset_index(inplace=True)\n",
    "my_music_by_song = my_music_by_song.rename(columns = {'index':'cancion'})"
   ]
  },
  {
   "cell_type": "code",
   "execution_count": 40,
   "id": "afa3527e",
   "metadata": {},
   "outputs": [],
   "source": [
    "my_music_by_song = my_music_by_song.sort_values(by = ['contador'])"
   ]
  },
  {
   "cell_type": "code",
   "execution_count": 41,
   "id": "83f553b0",
   "metadata": {},
   "outputs": [],
   "source": [
    "top15_songs = my_music_by_song.tail(15)"
   ]
  },
  {
   "cell_type": "code",
   "execution_count": 42,
   "id": "78973130",
   "metadata": {},
   "outputs": [
    {
     "data": {
      "text/plain": [
       "cancion      object\n",
       "msPlayed      int64\n",
       "minutos     float64\n",
       "horas       float64\n",
       "contador      int64\n",
       "dtype: object"
      ]
     },
     "execution_count": 42,
     "metadata": {},
     "output_type": "execute_result"
    }
   ],
   "source": [
    "top15_songs.dtypes"
   ]
  },
  {
   "cell_type": "code",
   "execution_count": 43,
   "id": "724b2247",
   "metadata": {},
   "outputs": [
    {
     "data": {
      "text/html": [
       "<div>\n",
       "<style scoped>\n",
       "    .dataframe tbody tr th:only-of-type {\n",
       "        vertical-align: middle;\n",
       "    }\n",
       "\n",
       "    .dataframe tbody tr th {\n",
       "        vertical-align: top;\n",
       "    }\n",
       "\n",
       "    .dataframe thead th {\n",
       "        text-align: right;\n",
       "    }\n",
       "</style>\n",
       "<table border=\"1\" class=\"dataframe\">\n",
       "  <thead>\n",
       "    <tr style=\"text-align: right;\">\n",
       "      <th></th>\n",
       "      <th>cancion</th>\n",
       "      <th>msPlayed</th>\n",
       "      <th>minutos</th>\n",
       "      <th>horas</th>\n",
       "      <th>contador</th>\n",
       "    </tr>\n",
       "  </thead>\n",
       "  <tbody>\n",
       "    <tr>\n",
       "      <th>380</th>\n",
       "      <td>Arturo Sandoval</td>\n",
       "      <td>11545753</td>\n",
       "      <td>192.429217</td>\n",
       "      <td>3.207154</td>\n",
       "      <td>59</td>\n",
       "    </tr>\n",
       "    <tr>\n",
       "      <th>2961</th>\n",
       "      <td>MONTERO (Call Me By Your Name)</td>\n",
       "      <td>7555660</td>\n",
       "      <td>125.927667</td>\n",
       "      <td>2.098794</td>\n",
       "      <td>59</td>\n",
       "    </tr>\n",
       "    <tr>\n",
       "      <th>5547</th>\n",
       "      <td>traitor</td>\n",
       "      <td>10745520</td>\n",
       "      <td>179.092000</td>\n",
       "      <td>2.984867</td>\n",
       "      <td>60</td>\n",
       "    </tr>\n",
       "    <tr>\n",
       "      <th>1504</th>\n",
       "      <td>Emotions</td>\n",
       "      <td>14354429</td>\n",
       "      <td>239.240483</td>\n",
       "      <td>3.987341</td>\n",
       "      <td>61</td>\n",
       "    </tr>\n",
       "    <tr>\n",
       "      <th>5453</th>\n",
       "      <td>good 4 u</td>\n",
       "      <td>9306045</td>\n",
       "      <td>155.100750</td>\n",
       "      <td>2.585012</td>\n",
       "      <td>61</td>\n",
       "    </tr>\n",
       "    <tr>\n",
       "      <th>714</th>\n",
       "      <td>Burning Like A Flame</td>\n",
       "      <td>19089756</td>\n",
       "      <td>318.162600</td>\n",
       "      <td>5.302710</td>\n",
       "      <td>65</td>\n",
       "    </tr>\n",
       "    <tr>\n",
       "      <th>5503</th>\n",
       "      <td>no eres tu(soy yo)</td>\n",
       "      <td>8088283</td>\n",
       "      <td>134.804717</td>\n",
       "      <td>2.246745</td>\n",
       "      <td>71</td>\n",
       "    </tr>\n",
       "    <tr>\n",
       "      <th>5424</th>\n",
       "      <td>deja vu</td>\n",
       "      <td>13446543</td>\n",
       "      <td>224.109050</td>\n",
       "      <td>3.735151</td>\n",
       "      <td>71</td>\n",
       "    </tr>\n",
       "    <tr>\n",
       "      <th>920</th>\n",
       "      <td>Close To You</td>\n",
       "      <td>19676857</td>\n",
       "      <td>327.947617</td>\n",
       "      <td>5.465794</td>\n",
       "      <td>102</td>\n",
       "    </tr>\n",
       "    <tr>\n",
       "      <th>5538</th>\n",
       "      <td>telepatía</td>\n",
       "      <td>15128400</td>\n",
       "      <td>252.140000</td>\n",
       "      <td>4.202333</td>\n",
       "      <td>102</td>\n",
       "    </tr>\n",
       "    <tr>\n",
       "      <th>2543</th>\n",
       "      <td>LALISA</td>\n",
       "      <td>18617026</td>\n",
       "      <td>310.283767</td>\n",
       "      <td>5.171396</td>\n",
       "      <td>107</td>\n",
       "    </tr>\n",
       "    <tr>\n",
       "      <th>511</th>\n",
       "      <td>Bam Bam (feat. Ed Sheeran)</td>\n",
       "      <td>25984412</td>\n",
       "      <td>433.073533</td>\n",
       "      <td>7.217892</td>\n",
       "      <td>129</td>\n",
       "    </tr>\n",
       "    <tr>\n",
       "      <th>516</th>\n",
       "      <td>Barcelona Night</td>\n",
       "      <td>22725397</td>\n",
       "      <td>378.756617</td>\n",
       "      <td>6.312610</td>\n",
       "      <td>141</td>\n",
       "    </tr>\n",
       "    <tr>\n",
       "      <th>5429</th>\n",
       "      <td>drivers license</td>\n",
       "      <td>30928367</td>\n",
       "      <td>515.472783</td>\n",
       "      <td>8.591213</td>\n",
       "      <td>145</td>\n",
       "    </tr>\n",
       "    <tr>\n",
       "      <th>2719</th>\n",
       "      <td>Leave The Door Open</td>\n",
       "      <td>51720356</td>\n",
       "      <td>862.005933</td>\n",
       "      <td>14.366766</td>\n",
       "      <td>236</td>\n",
       "    </tr>\n",
       "  </tbody>\n",
       "</table>\n",
       "</div>"
      ],
      "text/plain": [
       "                             cancion  msPlayed     minutos      horas  \\\n",
       "380                  Arturo Sandoval  11545753  192.429217   3.207154   \n",
       "2961  MONTERO (Call Me By Your Name)   7555660  125.927667   2.098794   \n",
       "5547                         traitor  10745520  179.092000   2.984867   \n",
       "1504                        Emotions  14354429  239.240483   3.987341   \n",
       "5453                        good 4 u   9306045  155.100750   2.585012   \n",
       "714             Burning Like A Flame  19089756  318.162600   5.302710   \n",
       "5503              no eres tu(soy yo)   8088283  134.804717   2.246745   \n",
       "5424                         deja vu  13446543  224.109050   3.735151   \n",
       "920                     Close To You  19676857  327.947617   5.465794   \n",
       "5538                       telepatía  15128400  252.140000   4.202333   \n",
       "2543                          LALISA  18617026  310.283767   5.171396   \n",
       "511       Bam Bam (feat. Ed Sheeran)  25984412  433.073533   7.217892   \n",
       "516                  Barcelona Night  22725397  378.756617   6.312610   \n",
       "5429                 drivers license  30928367  515.472783   8.591213   \n",
       "2719             Leave The Door Open  51720356  862.005933  14.366766   \n",
       "\n",
       "      contador  \n",
       "380         59  \n",
       "2961        59  \n",
       "5547        60  \n",
       "1504        61  \n",
       "5453        61  \n",
       "714         65  \n",
       "5503        71  \n",
       "5424        71  \n",
       "920        102  \n",
       "5538       102  \n",
       "2543       107  \n",
       "511        129  \n",
       "516        141  \n",
       "5429       145  \n",
       "2719       236  "
      ]
     },
     "execution_count": 43,
     "metadata": {},
     "output_type": "execute_result"
    }
   ],
   "source": [
    "top15_songs "
   ]
  },
  {
   "cell_type": "markdown",
   "id": "236745bd",
   "metadata": {},
   "source": [
    "## 15 artistas mas escuchados"
   ]
  },
  {
   "cell_type": "code",
   "execution_count": 44,
   "id": "065eb200",
   "metadata": {},
   "outputs": [],
   "source": [
    "music_by_artist = music_by_artist.sort_values(by = ['contador'])"
   ]
  },
  {
   "cell_type": "code",
   "execution_count": 45,
   "id": "2a8b7966",
   "metadata": {},
   "outputs": [],
   "source": [
    "top15_artist = music_by_artist.tail(15)"
   ]
  },
  {
   "cell_type": "code",
   "execution_count": 46,
   "id": "dafb9194",
   "metadata": {},
   "outputs": [
    {
     "data": {
      "text/html": [
       "<div>\n",
       "<style scoped>\n",
       "    .dataframe tbody tr th:only-of-type {\n",
       "        vertical-align: middle;\n",
       "    }\n",
       "\n",
       "    .dataframe tbody tr th {\n",
       "        vertical-align: top;\n",
       "    }\n",
       "\n",
       "    .dataframe thead th {\n",
       "        text-align: right;\n",
       "    }\n",
       "</style>\n",
       "<table border=\"1\" class=\"dataframe\">\n",
       "  <thead>\n",
       "    <tr style=\"text-align: right;\">\n",
       "      <th></th>\n",
       "      <th>artista</th>\n",
       "      <th>msPlayed</th>\n",
       "      <th>minutos</th>\n",
       "      <th>horas</th>\n",
       "      <th>contador</th>\n",
       "      <th>horas_redondeado</th>\n",
       "    </tr>\n",
       "  </thead>\n",
       "  <tbody>\n",
       "    <tr>\n",
       "      <th>1910</th>\n",
       "      <td>Tony Succar</td>\n",
       "      <td>53629549</td>\n",
       "      <td>893.825817</td>\n",
       "      <td>14.897097</td>\n",
       "      <td>237</td>\n",
       "      <td>15.0</td>\n",
       "    </tr>\n",
       "    <tr>\n",
       "      <th>2032</th>\n",
       "      <td>Yuki Hayashi</td>\n",
       "      <td>30172882</td>\n",
       "      <td>502.881367</td>\n",
       "      <td>8.381356</td>\n",
       "      <td>250</td>\n",
       "      <td>9.0</td>\n",
       "    </tr>\n",
       "    <tr>\n",
       "      <th>183</th>\n",
       "      <td>BROCKHAMPTON</td>\n",
       "      <td>44527173</td>\n",
       "      <td>742.119550</td>\n",
       "      <td>12.368659</td>\n",
       "      <td>253</td>\n",
       "      <td>13.0</td>\n",
       "    </tr>\n",
       "    <tr>\n",
       "      <th>191</th>\n",
       "      <td>Bad Bunny</td>\n",
       "      <td>44016330</td>\n",
       "      <td>733.605500</td>\n",
       "      <td>12.226758</td>\n",
       "      <td>259</td>\n",
       "      <td>13.0</td>\n",
       "    </tr>\n",
       "    <tr>\n",
       "      <th>1223</th>\n",
       "      <td>Mariah Carey</td>\n",
       "      <td>58860807</td>\n",
       "      <td>981.013450</td>\n",
       "      <td>16.350224</td>\n",
       "      <td>266</td>\n",
       "      <td>17.0</td>\n",
       "    </tr>\n",
       "    <tr>\n",
       "      <th>178</th>\n",
       "      <td>BLACKPINK</td>\n",
       "      <td>70363061</td>\n",
       "      <td>1172.717683</td>\n",
       "      <td>19.545295</td>\n",
       "      <td>392</td>\n",
       "      <td>20.0</td>\n",
       "    </tr>\n",
       "    <tr>\n",
       "      <th>1044</th>\n",
       "      <td>Last Dinosaurs</td>\n",
       "      <td>78702900</td>\n",
       "      <td>1311.715000</td>\n",
       "      <td>21.861917</td>\n",
       "      <td>410</td>\n",
       "      <td>22.0</td>\n",
       "    </tr>\n",
       "    <tr>\n",
       "      <th>501</th>\n",
       "      <td>Doja Cat</td>\n",
       "      <td>71158855</td>\n",
       "      <td>1185.980917</td>\n",
       "      <td>19.766349</td>\n",
       "      <td>428</td>\n",
       "      <td>20.0</td>\n",
       "    </tr>\n",
       "    <tr>\n",
       "      <th>888</th>\n",
       "      <td>Juan Luis Guerra 4.40</td>\n",
       "      <td>84539631</td>\n",
       "      <td>1408.993850</td>\n",
       "      <td>23.483231</td>\n",
       "      <td>483</td>\n",
       "      <td>24.0</td>\n",
       "    </tr>\n",
       "    <tr>\n",
       "      <th>1408</th>\n",
       "      <td>Olivia Rodrigo</td>\n",
       "      <td>86861800</td>\n",
       "      <td>1447.696667</td>\n",
       "      <td>24.128278</td>\n",
       "      <td>494</td>\n",
       "      <td>25.0</td>\n",
       "    </tr>\n",
       "    <tr>\n",
       "      <th>148</th>\n",
       "      <td>Ariana Grande</td>\n",
       "      <td>79929871</td>\n",
       "      <td>1332.164517</td>\n",
       "      <td>22.202742</td>\n",
       "      <td>503</td>\n",
       "      <td>23.0</td>\n",
       "    </tr>\n",
       "    <tr>\n",
       "      <th>927</th>\n",
       "      <td>Kali Uchis</td>\n",
       "      <td>76771268</td>\n",
       "      <td>1279.521133</td>\n",
       "      <td>21.325352</td>\n",
       "      <td>546</td>\n",
       "      <td>22.0</td>\n",
       "    </tr>\n",
       "    <tr>\n",
       "      <th>273</th>\n",
       "      <td>Bruno Mars</td>\n",
       "      <td>111124279</td>\n",
       "      <td>1852.071317</td>\n",
       "      <td>30.867855</td>\n",
       "      <td>578</td>\n",
       "      <td>31.0</td>\n",
       "    </tr>\n",
       "    <tr>\n",
       "      <th>993</th>\n",
       "      <td>L'Impératrice</td>\n",
       "      <td>129244805</td>\n",
       "      <td>2154.080083</td>\n",
       "      <td>35.901335</td>\n",
       "      <td>601</td>\n",
       "      <td>36.0</td>\n",
       "    </tr>\n",
       "    <tr>\n",
       "      <th>1807</th>\n",
       "      <td>Taylor Swift</td>\n",
       "      <td>235909098</td>\n",
       "      <td>3931.818300</td>\n",
       "      <td>65.530305</td>\n",
       "      <td>1320</td>\n",
       "      <td>66.0</td>\n",
       "    </tr>\n",
       "  </tbody>\n",
       "</table>\n",
       "</div>"
      ],
      "text/plain": [
       "                    artista   msPlayed      minutos      horas  contador  \\\n",
       "1910            Tony Succar   53629549   893.825817  14.897097       237   \n",
       "2032           Yuki Hayashi   30172882   502.881367   8.381356       250   \n",
       "183            BROCKHAMPTON   44527173   742.119550  12.368659       253   \n",
       "191               Bad Bunny   44016330   733.605500  12.226758       259   \n",
       "1223           Mariah Carey   58860807   981.013450  16.350224       266   \n",
       "178               BLACKPINK   70363061  1172.717683  19.545295       392   \n",
       "1044         Last Dinosaurs   78702900  1311.715000  21.861917       410   \n",
       "501                Doja Cat   71158855  1185.980917  19.766349       428   \n",
       "888   Juan Luis Guerra 4.40   84539631  1408.993850  23.483231       483   \n",
       "1408         Olivia Rodrigo   86861800  1447.696667  24.128278       494   \n",
       "148           Ariana Grande   79929871  1332.164517  22.202742       503   \n",
       "927              Kali Uchis   76771268  1279.521133  21.325352       546   \n",
       "273              Bruno Mars  111124279  1852.071317  30.867855       578   \n",
       "993           L'Impératrice  129244805  2154.080083  35.901335       601   \n",
       "1807           Taylor Swift  235909098  3931.818300  65.530305      1320   \n",
       "\n",
       "      horas_redondeado  \n",
       "1910              15.0  \n",
       "2032               9.0  \n",
       "183               13.0  \n",
       "191               13.0  \n",
       "1223              17.0  \n",
       "178               20.0  \n",
       "1044              22.0  \n",
       "501               20.0  \n",
       "888               24.0  \n",
       "1408              25.0  \n",
       "148               23.0  \n",
       "927               22.0  \n",
       "273               31.0  \n",
       "993               36.0  \n",
       "1807              66.0  "
      ]
     },
     "execution_count": 46,
     "metadata": {},
     "output_type": "execute_result"
    }
   ],
   "source": [
    "top15_artist"
   ]
  },
  {
   "cell_type": "markdown",
   "id": "8124c616",
   "metadata": {},
   "source": [
    "## 15 canciones de Taylor Swift más escuchadas"
   ]
  },
  {
   "cell_type": "code",
   "execution_count": 47,
   "id": "b2246d46",
   "metadata": {},
   "outputs": [],
   "source": [
    "swiftie_by_song  = swiftie_by_song.sort_values(by = ['contador'])"
   ]
  },
  {
   "cell_type": "code",
   "execution_count": 48,
   "id": "f6589c06",
   "metadata": {},
   "outputs": [],
   "source": [
    "top15_songs_tay = swiftie_by_song.tail(15)"
   ]
  },
  {
   "cell_type": "code",
   "execution_count": 49,
   "id": "28dfa63a",
   "metadata": {},
   "outputs": [
    {
     "data": {
      "text/html": [
       "<div>\n",
       "<style scoped>\n",
       "    .dataframe tbody tr th:only-of-type {\n",
       "        vertical-align: middle;\n",
       "    }\n",
       "\n",
       "    .dataframe tbody tr th {\n",
       "        vertical-align: top;\n",
       "    }\n",
       "\n",
       "    .dataframe thead th {\n",
       "        text-align: right;\n",
       "    }\n",
       "</style>\n",
       "<table border=\"1\" class=\"dataframe\">\n",
       "  <thead>\n",
       "    <tr style=\"text-align: right;\">\n",
       "      <th></th>\n",
       "      <th>cancion</th>\n",
       "      <th>msPlayed</th>\n",
       "      <th>minutos</th>\n",
       "      <th>horas</th>\n",
       "      <th>contador</th>\n",
       "    </tr>\n",
       "  </thead>\n",
       "  <tbody>\n",
       "    <tr>\n",
       "      <th>115</th>\n",
       "      <td>You Need To Calm Down</td>\n",
       "      <td>4035949</td>\n",
       "      <td>67.265817</td>\n",
       "      <td>1.121097</td>\n",
       "      <td>25</td>\n",
       "    </tr>\n",
       "    <tr>\n",
       "      <th>1</th>\n",
       "      <td>22</td>\n",
       "      <td>3922355</td>\n",
       "      <td>65.372583</td>\n",
       "      <td>1.089543</td>\n",
       "      <td>26</td>\n",
       "    </tr>\n",
       "    <tr>\n",
       "      <th>94</th>\n",
       "      <td>The Man</td>\n",
       "      <td>4220578</td>\n",
       "      <td>70.342967</td>\n",
       "      <td>1.172383</td>\n",
       "      <td>27</td>\n",
       "    </tr>\n",
       "    <tr>\n",
       "      <th>59</th>\n",
       "      <td>Lover</td>\n",
       "      <td>2809854</td>\n",
       "      <td>46.830900</td>\n",
       "      <td>0.780515</td>\n",
       "      <td>27</td>\n",
       "    </tr>\n",
       "    <tr>\n",
       "      <th>15</th>\n",
       "      <td>Call It What You Want</td>\n",
       "      <td>4861374</td>\n",
       "      <td>81.022900</td>\n",
       "      <td>1.350382</td>\n",
       "      <td>30</td>\n",
       "    </tr>\n",
       "    <tr>\n",
       "      <th>48</th>\n",
       "      <td>I Forgot That You Existed</td>\n",
       "      <td>4938531</td>\n",
       "      <td>82.308850</td>\n",
       "      <td>1.371814</td>\n",
       "      <td>30</td>\n",
       "    </tr>\n",
       "    <tr>\n",
       "      <th>12</th>\n",
       "      <td>Blank Space</td>\n",
       "      <td>6433197</td>\n",
       "      <td>107.219950</td>\n",
       "      <td>1.786999</td>\n",
       "      <td>31</td>\n",
       "    </tr>\n",
       "    <tr>\n",
       "      <th>27</th>\n",
       "      <td>Don’t Blame Me</td>\n",
       "      <td>6139860</td>\n",
       "      <td>102.331000</td>\n",
       "      <td>1.705517</td>\n",
       "      <td>33</td>\n",
       "    </tr>\n",
       "    <tr>\n",
       "      <th>30</th>\n",
       "      <td>End Game</td>\n",
       "      <td>9353424</td>\n",
       "      <td>155.890400</td>\n",
       "      <td>2.598173</td>\n",
       "      <td>41</td>\n",
       "    </tr>\n",
       "    <tr>\n",
       "      <th>0</th>\n",
       "      <td>...Ready For It?</td>\n",
       "      <td>7140169</td>\n",
       "      <td>119.002817</td>\n",
       "      <td>1.983380</td>\n",
       "      <td>41</td>\n",
       "    </tr>\n",
       "    <tr>\n",
       "      <th>26</th>\n",
       "      <td>Delicate</td>\n",
       "      <td>7931205</td>\n",
       "      <td>132.186750</td>\n",
       "      <td>2.203113</td>\n",
       "      <td>44</td>\n",
       "    </tr>\n",
       "    <tr>\n",
       "      <th>57</th>\n",
       "      <td>Look What You Made Me Do</td>\n",
       "      <td>8567550</td>\n",
       "      <td>142.792500</td>\n",
       "      <td>2.379875</td>\n",
       "      <td>44</td>\n",
       "    </tr>\n",
       "    <tr>\n",
       "      <th>100</th>\n",
       "      <td>This Is Why We Can't Have Nice Things</td>\n",
       "      <td>9679359</td>\n",
       "      <td>161.322650</td>\n",
       "      <td>2.688711</td>\n",
       "      <td>49</td>\n",
       "    </tr>\n",
       "    <tr>\n",
       "      <th>21</th>\n",
       "      <td>Cruel Summer</td>\n",
       "      <td>9155443</td>\n",
       "      <td>152.590717</td>\n",
       "      <td>2.543179</td>\n",
       "      <td>57</td>\n",
       "    </tr>\n",
       "    <tr>\n",
       "      <th>47</th>\n",
       "      <td>I Did Something Bad</td>\n",
       "      <td>10771110</td>\n",
       "      <td>179.518500</td>\n",
       "      <td>2.991975</td>\n",
       "      <td>58</td>\n",
       "    </tr>\n",
       "  </tbody>\n",
       "</table>\n",
       "</div>"
      ],
      "text/plain": [
       "                                   cancion  msPlayed     minutos     horas  \\\n",
       "115                  You Need To Calm Down   4035949   67.265817  1.121097   \n",
       "1                                       22   3922355   65.372583  1.089543   \n",
       "94                                 The Man   4220578   70.342967  1.172383   \n",
       "59                                   Lover   2809854   46.830900  0.780515   \n",
       "15                   Call It What You Want   4861374   81.022900  1.350382   \n",
       "48               I Forgot That You Existed   4938531   82.308850  1.371814   \n",
       "12                             Blank Space   6433197  107.219950  1.786999   \n",
       "27                          Don’t Blame Me   6139860  102.331000  1.705517   \n",
       "30                                End Game   9353424  155.890400  2.598173   \n",
       "0                         ...Ready For It?   7140169  119.002817  1.983380   \n",
       "26                                Delicate   7931205  132.186750  2.203113   \n",
       "57                Look What You Made Me Do   8567550  142.792500  2.379875   \n",
       "100  This Is Why We Can't Have Nice Things   9679359  161.322650  2.688711   \n",
       "21                            Cruel Summer   9155443  152.590717  2.543179   \n",
       "47                     I Did Something Bad  10771110  179.518500  2.991975   \n",
       "\n",
       "     contador  \n",
       "115        25  \n",
       "1          26  \n",
       "94         27  \n",
       "59         27  \n",
       "15         30  \n",
       "48         30  \n",
       "12         31  \n",
       "27         33  \n",
       "30         41  \n",
       "0          41  \n",
       "26         44  \n",
       "57         44  \n",
       "100        49  \n",
       "21         57  \n",
       "47         58  "
      ]
     },
     "execution_count": 49,
     "metadata": {},
     "output_type": "execute_result"
    }
   ],
   "source": [
    "top15_songs_tay"
   ]
  },
  {
   "cell_type": "markdown",
   "id": "f3c715ff",
   "metadata": {},
   "source": [
    "# Gráficos"
   ]
  },
  {
   "cell_type": "markdown",
   "id": "30383275",
   "metadata": {},
   "source": [
    "#### Personalizo un tema el cual llamo tay_theme"
   ]
  },
  {
   "cell_type": "code",
   "execution_count": 50,
   "id": "c8732079",
   "metadata": {},
   "outputs": [
    {
     "data": {
      "text/plain": [
       "ThemeRegistry.enable('Taylor_Swift')"
      ]
     },
     "execution_count": 50,
     "metadata": {},
     "output_type": "execute_result"
    }
   ],
   "source": [
    "def tay_theme():\n",
    "    font = \"Lato\"\n",
    "    labelFont = \"Lato\"\n",
    "    sourceFont = \"Lato\"\n",
    "    markColor = \"#db2b27\"\n",
    "    axisColor = \"#000000\"\n",
    "    main_palette = [\"#1696d2\", \n",
    "                    \"#d2d2d2\",\n",
    "                    \"#000000\", \n",
    "                    \"#fdbf11\", \n",
    "                    \"#ec008b\", \n",
    "                    \"#55b748\", \n",
    "                    \"#5c5859\", \n",
    "                    \"#db2b27\", \n",
    "                   ]\n",
    "    sequential_palette = [\"#cfe8f3\", \n",
    "                          \"#a2d4ec\", \n",
    "                          \"#73bfe2\", \n",
    "                          \"#46abdb\", \n",
    "                          \"#1696d2\", \n",
    "                          \"#12719e\", \n",
    "                         ]\n",
    "    return {\n",
    "        \"config\" : {\n",
    "             \"title\": {'font': font, \n",
    "                       'fontSize': 25,\n",
    "                       'fontWeight': 300,\n",
    "                       'offset':0,\n",
    "                       'anchor':'left'},\n",
    "             \"axis\": {\n",
    "                  \"labelFont\": font,\n",
    "                  \"titleFont\": font,\n",
    "                  \"domainColor\": \"black\",\n",
    "                  \"labelFontSize\": 15,\n",
    "                  \"titleFontSize\": 20\n",
    "             },\n",
    "             \"header\": {\n",
    "                  \"labelFont\": font,\n",
    "                  \"titleFont\": font\n",
    "             },\n",
    "             \"legend\": {\n",
    "                  \"labelFont\": labelFont,\n",
    "                  \"titleFont\": labelFont,\n",
    "                  \"symbolType\": 'circle',\n",
    "                  \"padding\": 1\n",
    "                  \n",
    "             }\n",
    "             ,\n",
    "             'background': \"#FFFFFF\",   \n",
    "              \"range\": {\n",
    "                \"category\": main_palette,\n",
    "                \"diverging\": sequential_palette,\n",
    "             },\n",
    "            \"area\": {\n",
    "               \"fill\": markColor,\n",
    "            },\n",
    "            \"line\": {\n",
    "                \"color\": markColor,\n",
    "                \"stroke\": markColor,\n",
    "                \"strokewidth\": 5,\n",
    "            },\n",
    "            \"trail\": {\n",
    "                \"color\": markColor,\n",
    "                \"stroke\": markColor,\n",
    "                \"strokeWidth\": 0,\n",
    "                \"size\": 1,\n",
    "            },\n",
    "            \"path\": {\n",
    "                \"stroke\": markColor,\n",
    "                \"strokeWidth\": 0.5,\n",
    "            },\n",
    "            \"point\": {\n",
    "                \"filled\": True,\n",
    "            },\n",
    "            \"text\": {\n",
    "                \"font\": sourceFont,\n",
    "                \"color\": markColor,\n",
    "                \"fontSize\": 11,\n",
    "                \"align\": \"right\",\n",
    "                \"fontWeight\": 400,\n",
    "                \"size\": 11,\n",
    "            }, \n",
    "            \"bar\": {\n",
    "                 \"size\": 40,\n",
    "                 \"binSpacing\": 1,\n",
    "                 \"continuousBandSize\": 30,\n",
    "                 \"discreteBandSize\": 30,\n",
    "                 \"fill\": markColor,\n",
    "                 \"stroke\": False,\n",
    "            }, \n",
    "        }\n",
    "    }\n",
    "\n",
    "alt.themes.register('Taylor_Swift', tay_theme)\n",
    "alt.themes.enable('Taylor_Swift')"
   ]
  },
  {
   "cell_type": "markdown",
   "id": "25fb9bb1",
   "metadata": {},
   "source": [
    "## 15 canciones de Taylor Swift más escuchadas en minutos y horas"
   ]
  },
  {
   "cell_type": "code",
   "execution_count": 51,
   "id": "fd58eb8b",
   "metadata": {},
   "outputs": [
    {
     "data": {
      "text/html": [
       "\n",
       "<div id=\"altair-viz-89777963ce6d47a586ba2b97be960dfd\"></div>\n",
       "<script type=\"text/javascript\">\n",
       "  var VEGA_DEBUG = (typeof VEGA_DEBUG == \"undefined\") ? {} : VEGA_DEBUG;\n",
       "  (function(spec, embedOpt){\n",
       "    let outputDiv = document.currentScript.previousElementSibling;\n",
       "    if (outputDiv.id !== \"altair-viz-89777963ce6d47a586ba2b97be960dfd\") {\n",
       "      outputDiv = document.getElementById(\"altair-viz-89777963ce6d47a586ba2b97be960dfd\");\n",
       "    }\n",
       "    const paths = {\n",
       "      \"vega\": \"https://cdn.jsdelivr.net/npm//vega@5?noext\",\n",
       "      \"vega-lib\": \"https://cdn.jsdelivr.net/npm//vega-lib?noext\",\n",
       "      \"vega-lite\": \"https://cdn.jsdelivr.net/npm//vega-lite@4.17.0?noext\",\n",
       "      \"vega-embed\": \"https://cdn.jsdelivr.net/npm//vega-embed@6?noext\",\n",
       "    };\n",
       "\n",
       "    function maybeLoadScript(lib, version) {\n",
       "      var key = `${lib.replace(\"-\", \"\")}_version`;\n",
       "      return (VEGA_DEBUG[key] == version) ?\n",
       "        Promise.resolve(paths[lib]) :\n",
       "        new Promise(function(resolve, reject) {\n",
       "          var s = document.createElement('script');\n",
       "          document.getElementsByTagName(\"head\")[0].appendChild(s);\n",
       "          s.async = true;\n",
       "          s.onload = () => {\n",
       "            VEGA_DEBUG[key] = version;\n",
       "            return resolve(paths[lib]);\n",
       "          };\n",
       "          s.onerror = () => reject(`Error loading script: ${paths[lib]}`);\n",
       "          s.src = paths[lib];\n",
       "        });\n",
       "    }\n",
       "\n",
       "    function showError(err) {\n",
       "      outputDiv.innerHTML = `<div class=\"error\" style=\"color:red;\">${err}</div>`;\n",
       "      throw err;\n",
       "    }\n",
       "\n",
       "    function displayChart(vegaEmbed) {\n",
       "      vegaEmbed(outputDiv, spec, embedOpt)\n",
       "        .catch(err => showError(`Javascript Error: ${err.message}<br>This usually means there's a typo in your chart specification. See the javascript console for the full traceback.`));\n",
       "    }\n",
       "\n",
       "    if(typeof define === \"function\" && define.amd) {\n",
       "      requirejs.config({paths});\n",
       "      require([\"vega-embed\"], displayChart, err => showError(`Error loading script: ${err.message}`));\n",
       "    } else {\n",
       "      maybeLoadScript(\"vega\", \"5\")\n",
       "        .then(() => maybeLoadScript(\"vega-lite\", \"4.17.0\"))\n",
       "        .then(() => maybeLoadScript(\"vega-embed\", \"6\"))\n",
       "        .catch(showError)\n",
       "        .then(() => displayChart(vegaEmbed));\n",
       "    }\n",
       "  })({\"config\": {\"title\": {\"font\": \"Lato\", \"fontSize\": 25, \"fontWeight\": 300, \"offset\": 0, \"anchor\": \"left\"}, \"axis\": {\"labelFont\": \"Lato\", \"titleFont\": \"Lato\", \"domainColor\": \"black\", \"labelFontSize\": 15, \"titleFontSize\": 20}, \"header\": {\"labelFont\": \"Lato\", \"titleFont\": \"Lato\"}, \"legend\": {\"labelFont\": \"Lato\", \"titleFont\": \"Lato\", \"symbolType\": \"circle\", \"padding\": 1}, \"background\": \"#FFFFFF\", \"range\": {\"category\": [\"#1696d2\", \"#d2d2d2\", \"#000000\", \"#fdbf11\", \"#ec008b\", \"#55b748\", \"#5c5859\", \"#db2b27\"], \"diverging\": [\"#cfe8f3\", \"#a2d4ec\", \"#73bfe2\", \"#46abdb\", \"#1696d2\", \"#12719e\"]}, \"area\": {\"fill\": \"#db2b27\"}, \"line\": {\"color\": \"#db2b27\", \"stroke\": \"#db2b27\", \"strokewidth\": 5}, \"trail\": {\"color\": \"#db2b27\", \"stroke\": \"#db2b27\", \"strokeWidth\": 0, \"size\": 1}, \"path\": {\"stroke\": \"#db2b27\", \"strokeWidth\": 0.5}, \"point\": {\"filled\": true}, \"text\": {\"font\": \"Lato\", \"color\": \"#db2b27\", \"fontSize\": 11, \"align\": \"right\", \"fontWeight\": 400, \"size\": 11}, \"bar\": {\"size\": 40, \"binSpacing\": 1, \"continuousBandSize\": 30, \"discreteBandSize\": 30, \"fill\": \"#db2b27\", \"stroke\": false}}, \"data\": {\"name\": \"data-cc132af4e521e4fdf7c4186ec73c8f77\"}, \"mark\": \"bar\", \"encoding\": {\"x\": {\"axis\": {\"title\": \"Canciones\"}, \"field\": \"cancion\", \"type\": \"nominal\"}, \"y\": {\"axis\": {\"title\": \"N\\u00famero de minutos\"}, \"field\": \"minutos\", \"type\": \"quantitative\"}}, \"height\": 300, \"title\": {\"text\": [\"15 canciones m\\u00e1s escuchadas de Taylor Swift en minutos\"], \"subtitle\": [\"Fuente: Datos personales de Spotify de Claudia\"], \"color\": \"Black\", \"subtitleColor\": \"gray\"}, \"width\": 1600, \"$schema\": \"https://vega.github.io/schema/vega-lite/v4.17.0.json\", \"datasets\": {\"data-cc132af4e521e4fdf7c4186ec73c8f77\": [{\"cancion\": \"You Need To Calm Down\", \"msPlayed\": 4035949, \"minutos\": 67.26581666666667, \"horas\": 1.1210969444444445, \"contador\": 25}, {\"cancion\": \"22\", \"msPlayed\": 3922355, \"minutos\": 65.37258333333334, \"horas\": 1.0895430555555554, \"contador\": 26}, {\"cancion\": \"The Man\", \"msPlayed\": 4220578, \"minutos\": 70.34296666666667, \"horas\": 1.1723827777777778, \"contador\": 27}, {\"cancion\": \"Lover\", \"msPlayed\": 2809854, \"minutos\": 46.8309, \"horas\": 0.7805150000000001, \"contador\": 27}, {\"cancion\": \"Call It What You Want\", \"msPlayed\": 4861374, \"minutos\": 81.0229, \"horas\": 1.3503816666666666, \"contador\": 30}, {\"cancion\": \"I Forgot That You Existed\", \"msPlayed\": 4938531, \"minutos\": 82.30884999999999, \"horas\": 1.3718141666666666, \"contador\": 30}, {\"cancion\": \"Blank Space\", \"msPlayed\": 6433197, \"minutos\": 107.21995, \"horas\": 1.7869991666666667, \"contador\": 31}, {\"cancion\": \"Don\\u2019t Blame Me\", \"msPlayed\": 6139860, \"minutos\": 102.331, \"horas\": 1.7055166666666666, \"contador\": 33}, {\"cancion\": \"End Game\", \"msPlayed\": 9353424, \"minutos\": 155.8904, \"horas\": 2.5981733333333334, \"contador\": 41}, {\"cancion\": \"...Ready For It?\", \"msPlayed\": 7140169, \"minutos\": 119.00281666666666, \"horas\": 1.9833802777777778, \"contador\": 41}, {\"cancion\": \"Delicate\", \"msPlayed\": 7931205, \"minutos\": 132.18675, \"horas\": 2.2031125, \"contador\": 44}, {\"cancion\": \"Look What You Made Me Do\", \"msPlayed\": 8567550, \"minutos\": 142.7925, \"horas\": 2.379875, \"contador\": 44}, {\"cancion\": \"This Is Why We Can't Have Nice Things\", \"msPlayed\": 9679359, \"minutos\": 161.32265, \"horas\": 2.6887108333333334, \"contador\": 49}, {\"cancion\": \"Cruel Summer\", \"msPlayed\": 9155443, \"minutos\": 152.59071666666668, \"horas\": 2.5431786111111108, \"contador\": 57}, {\"cancion\": \"I Did Something Bad\", \"msPlayed\": 10771110, \"minutos\": 179.51850000000002, \"horas\": 2.991975, \"contador\": 58}]}}, {\"mode\": \"vega-lite\"});\n",
       "</script>"
      ],
      "text/plain": [
       "alt.Chart(...)"
      ]
     },
     "execution_count": 51,
     "metadata": {},
     "output_type": "execute_result"
    }
   ],
   "source": [
    "tay_top15_songs_min = alt.Chart(top15_songs_tay, height = 300, width = 1600).mark_bar().encode( \n",
    "    x = alt.X(\"cancion\",  axis=alt.Axis(title='Canciones')), \n",
    "    y = alt.Y(\"minutos\",  axis=alt.Axis(title='Número de minutos')),\n",
    "    ).properties(\n",
    "    title = {\n",
    "      \"text\": [\"15 canciones más escuchadas de Taylor Swift en minutos\"], \n",
    "      \"subtitle\": [\"Fuente: Datos personales de Spotify de Claudia\"],\n",
    "      \"color\": \"Black\",\n",
    "      \"subtitleColor\": \"gray\"\n",
    "    }\n",
    ")\n",
    "tay_top15_songs_min"
   ]
  },
  {
   "cell_type": "code",
   "execution_count": 52,
   "id": "ebb8924a",
   "metadata": {},
   "outputs": [
    {
     "data": {
      "text/html": [
       "\n",
       "<div id=\"altair-viz-5fa24d38e14e479e971a971c3253419c\"></div>\n",
       "<script type=\"text/javascript\">\n",
       "  var VEGA_DEBUG = (typeof VEGA_DEBUG == \"undefined\") ? {} : VEGA_DEBUG;\n",
       "  (function(spec, embedOpt){\n",
       "    let outputDiv = document.currentScript.previousElementSibling;\n",
       "    if (outputDiv.id !== \"altair-viz-5fa24d38e14e479e971a971c3253419c\") {\n",
       "      outputDiv = document.getElementById(\"altair-viz-5fa24d38e14e479e971a971c3253419c\");\n",
       "    }\n",
       "    const paths = {\n",
       "      \"vega\": \"https://cdn.jsdelivr.net/npm//vega@5?noext\",\n",
       "      \"vega-lib\": \"https://cdn.jsdelivr.net/npm//vega-lib?noext\",\n",
       "      \"vega-lite\": \"https://cdn.jsdelivr.net/npm//vega-lite@4.17.0?noext\",\n",
       "      \"vega-embed\": \"https://cdn.jsdelivr.net/npm//vega-embed@6?noext\",\n",
       "    };\n",
       "\n",
       "    function maybeLoadScript(lib, version) {\n",
       "      var key = `${lib.replace(\"-\", \"\")}_version`;\n",
       "      return (VEGA_DEBUG[key] == version) ?\n",
       "        Promise.resolve(paths[lib]) :\n",
       "        new Promise(function(resolve, reject) {\n",
       "          var s = document.createElement('script');\n",
       "          document.getElementsByTagName(\"head\")[0].appendChild(s);\n",
       "          s.async = true;\n",
       "          s.onload = () => {\n",
       "            VEGA_DEBUG[key] = version;\n",
       "            return resolve(paths[lib]);\n",
       "          };\n",
       "          s.onerror = () => reject(`Error loading script: ${paths[lib]}`);\n",
       "          s.src = paths[lib];\n",
       "        });\n",
       "    }\n",
       "\n",
       "    function showError(err) {\n",
       "      outputDiv.innerHTML = `<div class=\"error\" style=\"color:red;\">${err}</div>`;\n",
       "      throw err;\n",
       "    }\n",
       "\n",
       "    function displayChart(vegaEmbed) {\n",
       "      vegaEmbed(outputDiv, spec, embedOpt)\n",
       "        .catch(err => showError(`Javascript Error: ${err.message}<br>This usually means there's a typo in your chart specification. See the javascript console for the full traceback.`));\n",
       "    }\n",
       "\n",
       "    if(typeof define === \"function\" && define.amd) {\n",
       "      requirejs.config({paths});\n",
       "      require([\"vega-embed\"], displayChart, err => showError(`Error loading script: ${err.message}`));\n",
       "    } else {\n",
       "      maybeLoadScript(\"vega\", \"5\")\n",
       "        .then(() => maybeLoadScript(\"vega-lite\", \"4.17.0\"))\n",
       "        .then(() => maybeLoadScript(\"vega-embed\", \"6\"))\n",
       "        .catch(showError)\n",
       "        .then(() => displayChart(vegaEmbed));\n",
       "    }\n",
       "  })({\"config\": {\"title\": {\"font\": \"Lato\", \"fontSize\": 25, \"fontWeight\": 300, \"offset\": 0, \"anchor\": \"left\"}, \"axis\": {\"labelFont\": \"Lato\", \"titleFont\": \"Lato\", \"domainColor\": \"black\", \"labelFontSize\": 15, \"titleFontSize\": 20}, \"header\": {\"labelFont\": \"Lato\", \"titleFont\": \"Lato\"}, \"legend\": {\"labelFont\": \"Lato\", \"titleFont\": \"Lato\", \"symbolType\": \"circle\", \"padding\": 1}, \"background\": \"#FFFFFF\", \"range\": {\"category\": [\"#1696d2\", \"#d2d2d2\", \"#000000\", \"#fdbf11\", \"#ec008b\", \"#55b748\", \"#5c5859\", \"#db2b27\"], \"diverging\": [\"#cfe8f3\", \"#a2d4ec\", \"#73bfe2\", \"#46abdb\", \"#1696d2\", \"#12719e\"]}, \"area\": {\"fill\": \"#db2b27\"}, \"line\": {\"color\": \"#db2b27\", \"stroke\": \"#db2b27\", \"strokewidth\": 5}, \"trail\": {\"color\": \"#db2b27\", \"stroke\": \"#db2b27\", \"strokeWidth\": 0, \"size\": 1}, \"path\": {\"stroke\": \"#db2b27\", \"strokeWidth\": 0.5}, \"point\": {\"filled\": true}, \"text\": {\"font\": \"Lato\", \"color\": \"#db2b27\", \"fontSize\": 11, \"align\": \"right\", \"fontWeight\": 400, \"size\": 11}, \"bar\": {\"size\": 40, \"binSpacing\": 1, \"continuousBandSize\": 30, \"discreteBandSize\": 30, \"fill\": \"#db2b27\", \"stroke\": false}}, \"data\": {\"name\": \"data-cc132af4e521e4fdf7c4186ec73c8f77\"}, \"mark\": \"bar\", \"encoding\": {\"x\": {\"axis\": {\"title\": \"Canciones\"}, \"field\": \"cancion\", \"type\": \"nominal\"}, \"y\": {\"axis\": {\"title\": \"N\\u00famero de horas\"}, \"field\": \"horas\", \"type\": \"quantitative\"}}, \"height\": 300, \"title\": {\"text\": [\"15 canciones m\\u00e1s escuchadas de Taylor Swift en horas\"], \"subtitle\": [\"Fuente: Datos personales de Spotify de Claudia\"], \"color\": \"Black\", \"subtitleColor\": \"gray\"}, \"width\": 1600, \"$schema\": \"https://vega.github.io/schema/vega-lite/v4.17.0.json\", \"datasets\": {\"data-cc132af4e521e4fdf7c4186ec73c8f77\": [{\"cancion\": \"You Need To Calm Down\", \"msPlayed\": 4035949, \"minutos\": 67.26581666666667, \"horas\": 1.1210969444444445, \"contador\": 25}, {\"cancion\": \"22\", \"msPlayed\": 3922355, \"minutos\": 65.37258333333334, \"horas\": 1.0895430555555554, \"contador\": 26}, {\"cancion\": \"The Man\", \"msPlayed\": 4220578, \"minutos\": 70.34296666666667, \"horas\": 1.1723827777777778, \"contador\": 27}, {\"cancion\": \"Lover\", \"msPlayed\": 2809854, \"minutos\": 46.8309, \"horas\": 0.7805150000000001, \"contador\": 27}, {\"cancion\": \"Call It What You Want\", \"msPlayed\": 4861374, \"minutos\": 81.0229, \"horas\": 1.3503816666666666, \"contador\": 30}, {\"cancion\": \"I Forgot That You Existed\", \"msPlayed\": 4938531, \"minutos\": 82.30884999999999, \"horas\": 1.3718141666666666, \"contador\": 30}, {\"cancion\": \"Blank Space\", \"msPlayed\": 6433197, \"minutos\": 107.21995, \"horas\": 1.7869991666666667, \"contador\": 31}, {\"cancion\": \"Don\\u2019t Blame Me\", \"msPlayed\": 6139860, \"minutos\": 102.331, \"horas\": 1.7055166666666666, \"contador\": 33}, {\"cancion\": \"End Game\", \"msPlayed\": 9353424, \"minutos\": 155.8904, \"horas\": 2.5981733333333334, \"contador\": 41}, {\"cancion\": \"...Ready For It?\", \"msPlayed\": 7140169, \"minutos\": 119.00281666666666, \"horas\": 1.9833802777777778, \"contador\": 41}, {\"cancion\": \"Delicate\", \"msPlayed\": 7931205, \"minutos\": 132.18675, \"horas\": 2.2031125, \"contador\": 44}, {\"cancion\": \"Look What You Made Me Do\", \"msPlayed\": 8567550, \"minutos\": 142.7925, \"horas\": 2.379875, \"contador\": 44}, {\"cancion\": \"This Is Why We Can't Have Nice Things\", \"msPlayed\": 9679359, \"minutos\": 161.32265, \"horas\": 2.6887108333333334, \"contador\": 49}, {\"cancion\": \"Cruel Summer\", \"msPlayed\": 9155443, \"minutos\": 152.59071666666668, \"horas\": 2.5431786111111108, \"contador\": 57}, {\"cancion\": \"I Did Something Bad\", \"msPlayed\": 10771110, \"minutos\": 179.51850000000002, \"horas\": 2.991975, \"contador\": 58}]}}, {\"mode\": \"vega-lite\"});\n",
       "</script>"
      ],
      "text/plain": [
       "alt.Chart(...)"
      ]
     },
     "execution_count": 52,
     "metadata": {},
     "output_type": "execute_result"
    }
   ],
   "source": [
    "tay_top15_songs_horas = alt.Chart(top15_songs_tay, height = 300, width = 1600).mark_bar().encode( \n",
    "    x = alt.X(\"cancion\", axis=alt.Axis(title='Canciones')), \n",
    "    y = alt.Y(\"horas\", axis=alt.Axis(title='Número de horas')),\n",
    "    ).properties(\n",
    "    title = {\n",
    "      \"text\": [\"15 canciones más escuchadas de Taylor Swift en horas\"], \n",
    "      \"subtitle\": [\"Fuente: Datos personales de Spotify de Claudia\"],\n",
    "      \"color\": \"Black\",\n",
    "      \"subtitleColor\": \"gray\"\n",
    "    }\n",
    ")\n",
    "tay_top15_songs_horas"
   ]
  },
  {
   "cell_type": "markdown",
   "id": "9e12e3ee",
   "metadata": {},
   "source": [
    "## 15 artistas más escuchados en minutos y horas"
   ]
  },
  {
   "cell_type": "code",
   "execution_count": 53,
   "id": "9c73e6df",
   "metadata": {},
   "outputs": [
    {
     "data": {
      "text/html": [
       "\n",
       "<div id=\"altair-viz-00faf992de6d4f7e84e6cf2561accc66\"></div>\n",
       "<script type=\"text/javascript\">\n",
       "  var VEGA_DEBUG = (typeof VEGA_DEBUG == \"undefined\") ? {} : VEGA_DEBUG;\n",
       "  (function(spec, embedOpt){\n",
       "    let outputDiv = document.currentScript.previousElementSibling;\n",
       "    if (outputDiv.id !== \"altair-viz-00faf992de6d4f7e84e6cf2561accc66\") {\n",
       "      outputDiv = document.getElementById(\"altair-viz-00faf992de6d4f7e84e6cf2561accc66\");\n",
       "    }\n",
       "    const paths = {\n",
       "      \"vega\": \"https://cdn.jsdelivr.net/npm//vega@5?noext\",\n",
       "      \"vega-lib\": \"https://cdn.jsdelivr.net/npm//vega-lib?noext\",\n",
       "      \"vega-lite\": \"https://cdn.jsdelivr.net/npm//vega-lite@4.17.0?noext\",\n",
       "      \"vega-embed\": \"https://cdn.jsdelivr.net/npm//vega-embed@6?noext\",\n",
       "    };\n",
       "\n",
       "    function maybeLoadScript(lib, version) {\n",
       "      var key = `${lib.replace(\"-\", \"\")}_version`;\n",
       "      return (VEGA_DEBUG[key] == version) ?\n",
       "        Promise.resolve(paths[lib]) :\n",
       "        new Promise(function(resolve, reject) {\n",
       "          var s = document.createElement('script');\n",
       "          document.getElementsByTagName(\"head\")[0].appendChild(s);\n",
       "          s.async = true;\n",
       "          s.onload = () => {\n",
       "            VEGA_DEBUG[key] = version;\n",
       "            return resolve(paths[lib]);\n",
       "          };\n",
       "          s.onerror = () => reject(`Error loading script: ${paths[lib]}`);\n",
       "          s.src = paths[lib];\n",
       "        });\n",
       "    }\n",
       "\n",
       "    function showError(err) {\n",
       "      outputDiv.innerHTML = `<div class=\"error\" style=\"color:red;\">${err}</div>`;\n",
       "      throw err;\n",
       "    }\n",
       "\n",
       "    function displayChart(vegaEmbed) {\n",
       "      vegaEmbed(outputDiv, spec, embedOpt)\n",
       "        .catch(err => showError(`Javascript Error: ${err.message}<br>This usually means there's a typo in your chart specification. See the javascript console for the full traceback.`));\n",
       "    }\n",
       "\n",
       "    if(typeof define === \"function\" && define.amd) {\n",
       "      requirejs.config({paths});\n",
       "      require([\"vega-embed\"], displayChart, err => showError(`Error loading script: ${err.message}`));\n",
       "    } else {\n",
       "      maybeLoadScript(\"vega\", \"5\")\n",
       "        .then(() => maybeLoadScript(\"vega-lite\", \"4.17.0\"))\n",
       "        .then(() => maybeLoadScript(\"vega-embed\", \"6\"))\n",
       "        .catch(showError)\n",
       "        .then(() => displayChart(vegaEmbed));\n",
       "    }\n",
       "  })({\"config\": {\"title\": {\"font\": \"Lato\", \"fontSize\": 25, \"fontWeight\": 300, \"offset\": 0, \"anchor\": \"left\"}, \"axis\": {\"labelFont\": \"Lato\", \"titleFont\": \"Lato\", \"domainColor\": \"black\", \"labelFontSize\": 15, \"titleFontSize\": 20}, \"header\": {\"labelFont\": \"Lato\", \"titleFont\": \"Lato\"}, \"legend\": {\"labelFont\": \"Lato\", \"titleFont\": \"Lato\", \"symbolType\": \"circle\", \"padding\": 1}, \"background\": \"#FFFFFF\", \"range\": {\"category\": [\"#1696d2\", \"#d2d2d2\", \"#000000\", \"#fdbf11\", \"#ec008b\", \"#55b748\", \"#5c5859\", \"#db2b27\"], \"diverging\": [\"#cfe8f3\", \"#a2d4ec\", \"#73bfe2\", \"#46abdb\", \"#1696d2\", \"#12719e\"]}, \"area\": {\"fill\": \"#db2b27\"}, \"line\": {\"color\": \"#db2b27\", \"stroke\": \"#db2b27\", \"strokewidth\": 5}, \"trail\": {\"color\": \"#db2b27\", \"stroke\": \"#db2b27\", \"strokeWidth\": 0, \"size\": 1}, \"path\": {\"stroke\": \"#db2b27\", \"strokeWidth\": 0.5}, \"point\": {\"filled\": true}, \"text\": {\"font\": \"Lato\", \"color\": \"#db2b27\", \"fontSize\": 11, \"align\": \"right\", \"fontWeight\": 400, \"size\": 11}, \"bar\": {\"size\": 40, \"binSpacing\": 1, \"continuousBandSize\": 30, \"discreteBandSize\": 30, \"fill\": \"#db2b27\", \"stroke\": false}}, \"data\": {\"name\": \"data-8ade98b0081c74f9c451f269dc283f4c\"}, \"mark\": \"bar\", \"encoding\": {\"x\": {\"axis\": {\"title\": \"Artistas\"}, \"field\": \"artista\", \"type\": \"nominal\"}, \"y\": {\"axis\": {\"title\": \"N\\u00famero de minutos\"}, \"field\": \"minutos\", \"type\": \"quantitative\"}}, \"height\": 300, \"title\": {\"text\": [\"15 artistas m\\u00e1s escuchados durante el \\u00faltimo a\\u00f1o en minutos\"], \"subtitle\": [\"Fuente: Datos personales de Spotify de Claudia\"], \"color\": \"Black\", \"subtitleColor\": \"gray\"}, \"width\": 800, \"$schema\": \"https://vega.github.io/schema/vega-lite/v4.17.0.json\", \"datasets\": {\"data-8ade98b0081c74f9c451f269dc283f4c\": [{\"artista\": \"Tony Succar\", \"msPlayed\": 53629549, \"minutos\": 893.8258166666667, \"horas\": 14.897096944444444, \"contador\": 237, \"horas_redondeado\": 15.0}, {\"artista\": \"Yuki Hayashi\", \"msPlayed\": 30172882, \"minutos\": 502.8813666666667, \"horas\": 8.381356111111112, \"contador\": 250, \"horas_redondeado\": 9.0}, {\"artista\": \"BROCKHAMPTON\", \"msPlayed\": 44527173, \"minutos\": 742.11955, \"horas\": 12.368659166666667, \"contador\": 253, \"horas_redondeado\": 13.0}, {\"artista\": \"Bad Bunny\", \"msPlayed\": 44016330, \"minutos\": 733.6055, \"horas\": 12.226758333333333, \"contador\": 259, \"horas_redondeado\": 13.0}, {\"artista\": \"Mariah Carey\", \"msPlayed\": 58860807, \"minutos\": 981.01345, \"horas\": 16.350224166666667, \"contador\": 266, \"horas_redondeado\": 17.0}, {\"artista\": \"BLACKPINK\", \"msPlayed\": 70363061, \"minutos\": 1172.7176833333333, \"horas\": 19.545294722222224, \"contador\": 392, \"horas_redondeado\": 20.0}, {\"artista\": \"Last Dinosaurs\", \"msPlayed\": 78702900, \"minutos\": 1311.715, \"horas\": 21.861916666666666, \"contador\": 410, \"horas_redondeado\": 22.0}, {\"artista\": \"Doja Cat\", \"msPlayed\": 71158855, \"minutos\": 1185.9809166666666, \"horas\": 19.766348611111113, \"contador\": 428, \"horas_redondeado\": 20.0}, {\"artista\": \"Juan Luis Guerra 4.40\", \"msPlayed\": 84539631, \"minutos\": 1408.99385, \"horas\": 23.483230833333334, \"contador\": 483, \"horas_redondeado\": 24.0}, {\"artista\": \"Olivia Rodrigo\", \"msPlayed\": 86861800, \"minutos\": 1447.6966666666667, \"horas\": 24.12827777777778, \"contador\": 494, \"horas_redondeado\": 25.0}, {\"artista\": \"Ariana Grande\", \"msPlayed\": 79929871, \"minutos\": 1332.1645166666667, \"horas\": 22.202741944444444, \"contador\": 503, \"horas_redondeado\": 23.0}, {\"artista\": \"Kali Uchis\", \"msPlayed\": 76771268, \"minutos\": 1279.5211333333332, \"horas\": 21.32535222222222, \"contador\": 546, \"horas_redondeado\": 22.0}, {\"artista\": \"Bruno Mars\", \"msPlayed\": 111124279, \"minutos\": 1852.0713166666667, \"horas\": 30.867855277777778, \"contador\": 578, \"horas_redondeado\": 31.0}, {\"artista\": \"L'Imp\\u00e9ratrice\", \"msPlayed\": 129244805, \"minutos\": 2154.0800833333333, \"horas\": 35.901334722222224, \"contador\": 601, \"horas_redondeado\": 36.0}, {\"artista\": \"Taylor Swift\", \"msPlayed\": 235909098, \"minutos\": 3931.8183, \"horas\": 65.530305, \"contador\": 1320, \"horas_redondeado\": 66.0}]}}, {\"mode\": \"vega-lite\"});\n",
       "</script>"
      ],
      "text/plain": [
       "alt.Chart(...)"
      ]
     },
     "execution_count": 53,
     "metadata": {},
     "output_type": "execute_result"
    }
   ],
   "source": [
    "top15_artists_min = alt.Chart(top15_artist, height = 300, width = 800).mark_bar().encode( \n",
    "    x = alt.X(\"artista\", axis=alt.Axis(title='Artistas')), \n",
    "    y = alt.Y(\"minutos\", axis=alt.Axis(title='Número de minutos')),\n",
    "    ).properties(\n",
    "    title = {\n",
    "      \"text\": [\"15 artistas más escuchados durante el último año en minutos\"], \n",
    "      \"subtitle\": [\"Fuente: Datos personales de Spotify de Claudia\"],\n",
    "      \"color\": \"Black\",\n",
    "      \"subtitleColor\": \"gray\"\n",
    "    }\n",
    ")\n",
    "top15_artists_min"
   ]
  },
  {
   "cell_type": "code",
   "execution_count": 54,
   "id": "560b6021",
   "metadata": {},
   "outputs": [
    {
     "data": {
      "text/html": [
       "\n",
       "<div id=\"altair-viz-4537299aeedd4686826f0d4d4d8dfc4f\"></div>\n",
       "<script type=\"text/javascript\">\n",
       "  var VEGA_DEBUG = (typeof VEGA_DEBUG == \"undefined\") ? {} : VEGA_DEBUG;\n",
       "  (function(spec, embedOpt){\n",
       "    let outputDiv = document.currentScript.previousElementSibling;\n",
       "    if (outputDiv.id !== \"altair-viz-4537299aeedd4686826f0d4d4d8dfc4f\") {\n",
       "      outputDiv = document.getElementById(\"altair-viz-4537299aeedd4686826f0d4d4d8dfc4f\");\n",
       "    }\n",
       "    const paths = {\n",
       "      \"vega\": \"https://cdn.jsdelivr.net/npm//vega@5?noext\",\n",
       "      \"vega-lib\": \"https://cdn.jsdelivr.net/npm//vega-lib?noext\",\n",
       "      \"vega-lite\": \"https://cdn.jsdelivr.net/npm//vega-lite@4.17.0?noext\",\n",
       "      \"vega-embed\": \"https://cdn.jsdelivr.net/npm//vega-embed@6?noext\",\n",
       "    };\n",
       "\n",
       "    function maybeLoadScript(lib, version) {\n",
       "      var key = `${lib.replace(\"-\", \"\")}_version`;\n",
       "      return (VEGA_DEBUG[key] == version) ?\n",
       "        Promise.resolve(paths[lib]) :\n",
       "        new Promise(function(resolve, reject) {\n",
       "          var s = document.createElement('script');\n",
       "          document.getElementsByTagName(\"head\")[0].appendChild(s);\n",
       "          s.async = true;\n",
       "          s.onload = () => {\n",
       "            VEGA_DEBUG[key] = version;\n",
       "            return resolve(paths[lib]);\n",
       "          };\n",
       "          s.onerror = () => reject(`Error loading script: ${paths[lib]}`);\n",
       "          s.src = paths[lib];\n",
       "        });\n",
       "    }\n",
       "\n",
       "    function showError(err) {\n",
       "      outputDiv.innerHTML = `<div class=\"error\" style=\"color:red;\">${err}</div>`;\n",
       "      throw err;\n",
       "    }\n",
       "\n",
       "    function displayChart(vegaEmbed) {\n",
       "      vegaEmbed(outputDiv, spec, embedOpt)\n",
       "        .catch(err => showError(`Javascript Error: ${err.message}<br>This usually means there's a typo in your chart specification. See the javascript console for the full traceback.`));\n",
       "    }\n",
       "\n",
       "    if(typeof define === \"function\" && define.amd) {\n",
       "      requirejs.config({paths});\n",
       "      require([\"vega-embed\"], displayChart, err => showError(`Error loading script: ${err.message}`));\n",
       "    } else {\n",
       "      maybeLoadScript(\"vega\", \"5\")\n",
       "        .then(() => maybeLoadScript(\"vega-lite\", \"4.17.0\"))\n",
       "        .then(() => maybeLoadScript(\"vega-embed\", \"6\"))\n",
       "        .catch(showError)\n",
       "        .then(() => displayChart(vegaEmbed));\n",
       "    }\n",
       "  })({\"config\": {\"title\": {\"font\": \"Lato\", \"fontSize\": 25, \"fontWeight\": 300, \"offset\": 0, \"anchor\": \"left\"}, \"axis\": {\"labelFont\": \"Lato\", \"titleFont\": \"Lato\", \"domainColor\": \"black\", \"labelFontSize\": 15, \"titleFontSize\": 20}, \"header\": {\"labelFont\": \"Lato\", \"titleFont\": \"Lato\"}, \"legend\": {\"labelFont\": \"Lato\", \"titleFont\": \"Lato\", \"symbolType\": \"circle\", \"padding\": 1}, \"background\": \"#FFFFFF\", \"range\": {\"category\": [\"#1696d2\", \"#d2d2d2\", \"#000000\", \"#fdbf11\", \"#ec008b\", \"#55b748\", \"#5c5859\", \"#db2b27\"], \"diverging\": [\"#cfe8f3\", \"#a2d4ec\", \"#73bfe2\", \"#46abdb\", \"#1696d2\", \"#12719e\"]}, \"area\": {\"fill\": \"#db2b27\"}, \"line\": {\"color\": \"#db2b27\", \"stroke\": \"#db2b27\", \"strokewidth\": 5}, \"trail\": {\"color\": \"#db2b27\", \"stroke\": \"#db2b27\", \"strokeWidth\": 0, \"size\": 1}, \"path\": {\"stroke\": \"#db2b27\", \"strokeWidth\": 0.5}, \"point\": {\"filled\": true}, \"text\": {\"font\": \"Lato\", \"color\": \"#db2b27\", \"fontSize\": 11, \"align\": \"right\", \"fontWeight\": 400, \"size\": 11}, \"bar\": {\"size\": 40, \"binSpacing\": 1, \"continuousBandSize\": 30, \"discreteBandSize\": 30, \"fill\": \"#db2b27\", \"stroke\": false}}, \"data\": {\"name\": \"data-8ade98b0081c74f9c451f269dc283f4c\"}, \"mark\": \"bar\", \"encoding\": {\"x\": {\"axis\": {\"title\": \"Artistas\"}, \"field\": \"artista\", \"type\": \"nominal\"}, \"y\": {\"axis\": {\"title\": \"N\\u00famero de horas\"}, \"field\": \"horas\", \"type\": \"quantitative\"}}, \"height\": 300, \"title\": {\"text\": [\"15 artistas m\\u00e1s escuchados durante el \\u00faltimo a\\u00f1o en horas\"], \"subtitle\": [\"Fuente: Datos personales de Spotify de Claudia\"], \"color\": \"Black\", \"subtitleColor\": \"gray\"}, \"width\": 800, \"$schema\": \"https://vega.github.io/schema/vega-lite/v4.17.0.json\", \"datasets\": {\"data-8ade98b0081c74f9c451f269dc283f4c\": [{\"artista\": \"Tony Succar\", \"msPlayed\": 53629549, \"minutos\": 893.8258166666667, \"horas\": 14.897096944444444, \"contador\": 237, \"horas_redondeado\": 15.0}, {\"artista\": \"Yuki Hayashi\", \"msPlayed\": 30172882, \"minutos\": 502.8813666666667, \"horas\": 8.381356111111112, \"contador\": 250, \"horas_redondeado\": 9.0}, {\"artista\": \"BROCKHAMPTON\", \"msPlayed\": 44527173, \"minutos\": 742.11955, \"horas\": 12.368659166666667, \"contador\": 253, \"horas_redondeado\": 13.0}, {\"artista\": \"Bad Bunny\", \"msPlayed\": 44016330, \"minutos\": 733.6055, \"horas\": 12.226758333333333, \"contador\": 259, \"horas_redondeado\": 13.0}, {\"artista\": \"Mariah Carey\", \"msPlayed\": 58860807, \"minutos\": 981.01345, \"horas\": 16.350224166666667, \"contador\": 266, \"horas_redondeado\": 17.0}, {\"artista\": \"BLACKPINK\", \"msPlayed\": 70363061, \"minutos\": 1172.7176833333333, \"horas\": 19.545294722222224, \"contador\": 392, \"horas_redondeado\": 20.0}, {\"artista\": \"Last Dinosaurs\", \"msPlayed\": 78702900, \"minutos\": 1311.715, \"horas\": 21.861916666666666, \"contador\": 410, \"horas_redondeado\": 22.0}, {\"artista\": \"Doja Cat\", \"msPlayed\": 71158855, \"minutos\": 1185.9809166666666, \"horas\": 19.766348611111113, \"contador\": 428, \"horas_redondeado\": 20.0}, {\"artista\": \"Juan Luis Guerra 4.40\", \"msPlayed\": 84539631, \"minutos\": 1408.99385, \"horas\": 23.483230833333334, \"contador\": 483, \"horas_redondeado\": 24.0}, {\"artista\": \"Olivia Rodrigo\", \"msPlayed\": 86861800, \"minutos\": 1447.6966666666667, \"horas\": 24.12827777777778, \"contador\": 494, \"horas_redondeado\": 25.0}, {\"artista\": \"Ariana Grande\", \"msPlayed\": 79929871, \"minutos\": 1332.1645166666667, \"horas\": 22.202741944444444, \"contador\": 503, \"horas_redondeado\": 23.0}, {\"artista\": \"Kali Uchis\", \"msPlayed\": 76771268, \"minutos\": 1279.5211333333332, \"horas\": 21.32535222222222, \"contador\": 546, \"horas_redondeado\": 22.0}, {\"artista\": \"Bruno Mars\", \"msPlayed\": 111124279, \"minutos\": 1852.0713166666667, \"horas\": 30.867855277777778, \"contador\": 578, \"horas_redondeado\": 31.0}, {\"artista\": \"L'Imp\\u00e9ratrice\", \"msPlayed\": 129244805, \"minutos\": 2154.0800833333333, \"horas\": 35.901334722222224, \"contador\": 601, \"horas_redondeado\": 36.0}, {\"artista\": \"Taylor Swift\", \"msPlayed\": 235909098, \"minutos\": 3931.8183, \"horas\": 65.530305, \"contador\": 1320, \"horas_redondeado\": 66.0}]}}, {\"mode\": \"vega-lite\"});\n",
       "</script>"
      ],
      "text/plain": [
       "alt.Chart(...)"
      ]
     },
     "execution_count": 54,
     "metadata": {},
     "output_type": "execute_result"
    }
   ],
   "source": [
    "top15_artists_horas = alt.Chart(top15_artist, height = 300, width = 800).mark_bar().encode( \n",
    "    x = alt.X(\"artista\", axis=alt.Axis(title='Artistas')), \n",
    "    y = alt.Y(\"horas\", axis=alt.Axis(title='Número de horas')),\n",
    "    ).properties(\n",
    "    title = {\n",
    "      \"text\": [\"15 artistas más escuchados durante el último año en horas\"], \n",
    "      \"subtitle\": [\"Fuente: Datos personales de Spotify de Claudia\"],\n",
    "      \"color\": \"Black\",\n",
    "      \"subtitleColor\": \"gray\"\n",
    "    }\n",
    ")\n",
    "top15_artists_horas"
   ]
  },
  {
   "cell_type": "markdown",
   "id": "c1296c10",
   "metadata": {},
   "source": [
    "## 15 canciones mas escuchadas en minutos y horas"
   ]
  },
  {
   "cell_type": "code",
   "execution_count": 55,
   "id": "e574df76",
   "metadata": {},
   "outputs": [
    {
     "data": {
      "text/html": [
       "\n",
       "<div id=\"altair-viz-aa75c92bd4f24fb1b69be9f7db3aac9b\"></div>\n",
       "<script type=\"text/javascript\">\n",
       "  var VEGA_DEBUG = (typeof VEGA_DEBUG == \"undefined\") ? {} : VEGA_DEBUG;\n",
       "  (function(spec, embedOpt){\n",
       "    let outputDiv = document.currentScript.previousElementSibling;\n",
       "    if (outputDiv.id !== \"altair-viz-aa75c92bd4f24fb1b69be9f7db3aac9b\") {\n",
       "      outputDiv = document.getElementById(\"altair-viz-aa75c92bd4f24fb1b69be9f7db3aac9b\");\n",
       "    }\n",
       "    const paths = {\n",
       "      \"vega\": \"https://cdn.jsdelivr.net/npm//vega@5?noext\",\n",
       "      \"vega-lib\": \"https://cdn.jsdelivr.net/npm//vega-lib?noext\",\n",
       "      \"vega-lite\": \"https://cdn.jsdelivr.net/npm//vega-lite@4.17.0?noext\",\n",
       "      \"vega-embed\": \"https://cdn.jsdelivr.net/npm//vega-embed@6?noext\",\n",
       "    };\n",
       "\n",
       "    function maybeLoadScript(lib, version) {\n",
       "      var key = `${lib.replace(\"-\", \"\")}_version`;\n",
       "      return (VEGA_DEBUG[key] == version) ?\n",
       "        Promise.resolve(paths[lib]) :\n",
       "        new Promise(function(resolve, reject) {\n",
       "          var s = document.createElement('script');\n",
       "          document.getElementsByTagName(\"head\")[0].appendChild(s);\n",
       "          s.async = true;\n",
       "          s.onload = () => {\n",
       "            VEGA_DEBUG[key] = version;\n",
       "            return resolve(paths[lib]);\n",
       "          };\n",
       "          s.onerror = () => reject(`Error loading script: ${paths[lib]}`);\n",
       "          s.src = paths[lib];\n",
       "        });\n",
       "    }\n",
       "\n",
       "    function showError(err) {\n",
       "      outputDiv.innerHTML = `<div class=\"error\" style=\"color:red;\">${err}</div>`;\n",
       "      throw err;\n",
       "    }\n",
       "\n",
       "    function displayChart(vegaEmbed) {\n",
       "      vegaEmbed(outputDiv, spec, embedOpt)\n",
       "        .catch(err => showError(`Javascript Error: ${err.message}<br>This usually means there's a typo in your chart specification. See the javascript console for the full traceback.`));\n",
       "    }\n",
       "\n",
       "    if(typeof define === \"function\" && define.amd) {\n",
       "      requirejs.config({paths});\n",
       "      require([\"vega-embed\"], displayChart, err => showError(`Error loading script: ${err.message}`));\n",
       "    } else {\n",
       "      maybeLoadScript(\"vega\", \"5\")\n",
       "        .then(() => maybeLoadScript(\"vega-lite\", \"4.17.0\"))\n",
       "        .then(() => maybeLoadScript(\"vega-embed\", \"6\"))\n",
       "        .catch(showError)\n",
       "        .then(() => displayChart(vegaEmbed));\n",
       "    }\n",
       "  })({\"config\": {\"title\": {\"font\": \"Lato\", \"fontSize\": 25, \"fontWeight\": 300, \"offset\": 0, \"anchor\": \"left\"}, \"axis\": {\"labelFont\": \"Lato\", \"titleFont\": \"Lato\", \"domainColor\": \"black\", \"labelFontSize\": 15, \"titleFontSize\": 20}, \"header\": {\"labelFont\": \"Lato\", \"titleFont\": \"Lato\"}, \"legend\": {\"labelFont\": \"Lato\", \"titleFont\": \"Lato\", \"symbolType\": \"circle\", \"padding\": 1}, \"background\": \"#FFFFFF\", \"range\": {\"category\": [\"#1696d2\", \"#d2d2d2\", \"#000000\", \"#fdbf11\", \"#ec008b\", \"#55b748\", \"#5c5859\", \"#db2b27\"], \"diverging\": [\"#cfe8f3\", \"#a2d4ec\", \"#73bfe2\", \"#46abdb\", \"#1696d2\", \"#12719e\"]}, \"area\": {\"fill\": \"#db2b27\"}, \"line\": {\"color\": \"#db2b27\", \"stroke\": \"#db2b27\", \"strokewidth\": 5}, \"trail\": {\"color\": \"#db2b27\", \"stroke\": \"#db2b27\", \"strokeWidth\": 0, \"size\": 1}, \"path\": {\"stroke\": \"#db2b27\", \"strokeWidth\": 0.5}, \"point\": {\"filled\": true}, \"text\": {\"font\": \"Lato\", \"color\": \"#db2b27\", \"fontSize\": 11, \"align\": \"right\", \"fontWeight\": 400, \"size\": 11}, \"bar\": {\"size\": 40, \"binSpacing\": 1, \"continuousBandSize\": 30, \"discreteBandSize\": 30, \"fill\": \"#db2b27\", \"stroke\": false}}, \"data\": {\"name\": \"data-a3e4d19c5396a415e7782b71f1b45823\"}, \"mark\": \"bar\", \"encoding\": {\"x\": {\"axis\": {\"title\": \"Canciones\"}, \"field\": \"cancion\", \"type\": \"nominal\"}, \"y\": {\"axis\": {\"title\": \"N\\u00famero de minutos\"}, \"field\": \"minutos\", \"type\": \"quantitative\"}}, \"height\": 300, \"title\": {\"text\": [\"15 canciones m\\u00e1s escuchadas durante el \\u00faltimo a\\u00f1o en minutos\"], \"subtitle\": [\"Fuente: Datos personales de Spotify de Claudia\"], \"color\": \"Black\", \"subtitleColor\": \"gray\"}, \"width\": 800, \"$schema\": \"https://vega.github.io/schema/vega-lite/v4.17.0.json\", \"datasets\": {\"data-a3e4d19c5396a415e7782b71f1b45823\": [{\"cancion\": \"Arturo Sandoval\", \"msPlayed\": 11545753, \"minutos\": 192.42921666666666, \"horas\": 3.2071536111111114, \"contador\": 59}, {\"cancion\": \"MONTERO (Call Me By Your Name)\", \"msPlayed\": 7555660, \"minutos\": 125.92766666666667, \"horas\": 2.0987944444444446, \"contador\": 59}, {\"cancion\": \"traitor\", \"msPlayed\": 10745520, \"minutos\": 179.092, \"horas\": 2.9848666666666666, \"contador\": 60}, {\"cancion\": \"Emotions\", \"msPlayed\": 14354429, \"minutos\": 239.24048333333334, \"horas\": 3.987341388888889, \"contador\": 61}, {\"cancion\": \"good 4 u\", \"msPlayed\": 9306045, \"minutos\": 155.10075, \"horas\": 2.5850125, \"contador\": 61}, {\"cancion\": \"Burning Like A Flame\", \"msPlayed\": 19089756, \"minutos\": 318.1626, \"horas\": 5.30271, \"contador\": 65}, {\"cancion\": \"no eres tu(soy yo)\", \"msPlayed\": 8088283, \"minutos\": 134.80471666666665, \"horas\": 2.246745277777778, \"contador\": 71}, {\"cancion\": \"deja vu\", \"msPlayed\": 13446543, \"minutos\": 224.10905, \"horas\": 3.7351508333333334, \"contador\": 71}, {\"cancion\": \"Close To You\", \"msPlayed\": 19676857, \"minutos\": 327.94761666666665, \"horas\": 5.465793611111111, \"contador\": 102}, {\"cancion\": \"telepat\\u00eda\", \"msPlayed\": 15128400, \"minutos\": 252.14, \"horas\": 4.202333333333334, \"contador\": 102}, {\"cancion\": \"LALISA\", \"msPlayed\": 18617026, \"minutos\": 310.2837666666667, \"horas\": 5.171396111111111, \"contador\": 107}, {\"cancion\": \"Bam Bam (feat. Ed Sheeran)\", \"msPlayed\": 25984412, \"minutos\": 433.07353333333333, \"horas\": 7.217892222222223, \"contador\": 129}, {\"cancion\": \"Barcelona Night\", \"msPlayed\": 22725397, \"minutos\": 378.7566166666667, \"horas\": 6.312610277777778, \"contador\": 141}, {\"cancion\": \"drivers license\", \"msPlayed\": 30928367, \"minutos\": 515.4727833333334, \"horas\": 8.591213055555555, \"contador\": 145}, {\"cancion\": \"Leave The Door Open\", \"msPlayed\": 51720356, \"minutos\": 862.0059333333332, \"horas\": 14.366765555555554, \"contador\": 236}]}}, {\"mode\": \"vega-lite\"});\n",
       "</script>"
      ],
      "text/plain": [
       "alt.Chart(...)"
      ]
     },
     "execution_count": 55,
     "metadata": {},
     "output_type": "execute_result"
    }
   ],
   "source": [
    "top15_songs_min = alt.Chart(top15_songs, height = 300, width = 800).mark_bar().encode( \n",
    "    x = alt.X(\"cancion\", axis=alt.Axis(title='Canciones')), \n",
    "    y = alt.Y(\"minutos\", axis=alt.Axis(title='Número de minutos')),\n",
    "    ).properties(\n",
    "    title = {\n",
    "      \"text\": [\"15 canciones más escuchadas durante el último año en minutos\"], \n",
    "      \"subtitle\": [\"Fuente: Datos personales de Spotify de Claudia\"],\n",
    "      \"color\": \"Black\",\n",
    "      \"subtitleColor\": \"gray\"\n",
    "    }\n",
    ")\n",
    "top15_songs_min"
   ]
  },
  {
   "cell_type": "code",
   "execution_count": 56,
   "id": "90713574",
   "metadata": {},
   "outputs": [
    {
     "data": {
      "text/html": [
       "\n",
       "<div id=\"altair-viz-894893313f3e4b3a8ea4e263474f9d65\"></div>\n",
       "<script type=\"text/javascript\">\n",
       "  var VEGA_DEBUG = (typeof VEGA_DEBUG == \"undefined\") ? {} : VEGA_DEBUG;\n",
       "  (function(spec, embedOpt){\n",
       "    let outputDiv = document.currentScript.previousElementSibling;\n",
       "    if (outputDiv.id !== \"altair-viz-894893313f3e4b3a8ea4e263474f9d65\") {\n",
       "      outputDiv = document.getElementById(\"altair-viz-894893313f3e4b3a8ea4e263474f9d65\");\n",
       "    }\n",
       "    const paths = {\n",
       "      \"vega\": \"https://cdn.jsdelivr.net/npm//vega@5?noext\",\n",
       "      \"vega-lib\": \"https://cdn.jsdelivr.net/npm//vega-lib?noext\",\n",
       "      \"vega-lite\": \"https://cdn.jsdelivr.net/npm//vega-lite@4.17.0?noext\",\n",
       "      \"vega-embed\": \"https://cdn.jsdelivr.net/npm//vega-embed@6?noext\",\n",
       "    };\n",
       "\n",
       "    function maybeLoadScript(lib, version) {\n",
       "      var key = `${lib.replace(\"-\", \"\")}_version`;\n",
       "      return (VEGA_DEBUG[key] == version) ?\n",
       "        Promise.resolve(paths[lib]) :\n",
       "        new Promise(function(resolve, reject) {\n",
       "          var s = document.createElement('script');\n",
       "          document.getElementsByTagName(\"head\")[0].appendChild(s);\n",
       "          s.async = true;\n",
       "          s.onload = () => {\n",
       "            VEGA_DEBUG[key] = version;\n",
       "            return resolve(paths[lib]);\n",
       "          };\n",
       "          s.onerror = () => reject(`Error loading script: ${paths[lib]}`);\n",
       "          s.src = paths[lib];\n",
       "        });\n",
       "    }\n",
       "\n",
       "    function showError(err) {\n",
       "      outputDiv.innerHTML = `<div class=\"error\" style=\"color:red;\">${err}</div>`;\n",
       "      throw err;\n",
       "    }\n",
       "\n",
       "    function displayChart(vegaEmbed) {\n",
       "      vegaEmbed(outputDiv, spec, embedOpt)\n",
       "        .catch(err => showError(`Javascript Error: ${err.message}<br>This usually means there's a typo in your chart specification. See the javascript console for the full traceback.`));\n",
       "    }\n",
       "\n",
       "    if(typeof define === \"function\" && define.amd) {\n",
       "      requirejs.config({paths});\n",
       "      require([\"vega-embed\"], displayChart, err => showError(`Error loading script: ${err.message}`));\n",
       "    } else {\n",
       "      maybeLoadScript(\"vega\", \"5\")\n",
       "        .then(() => maybeLoadScript(\"vega-lite\", \"4.17.0\"))\n",
       "        .then(() => maybeLoadScript(\"vega-embed\", \"6\"))\n",
       "        .catch(showError)\n",
       "        .then(() => displayChart(vegaEmbed));\n",
       "    }\n",
       "  })({\"config\": {\"title\": {\"font\": \"Lato\", \"fontSize\": 25, \"fontWeight\": 300, \"offset\": 0, \"anchor\": \"left\"}, \"axis\": {\"labelFont\": \"Lato\", \"titleFont\": \"Lato\", \"domainColor\": \"black\", \"labelFontSize\": 15, \"titleFontSize\": 20}, \"header\": {\"labelFont\": \"Lato\", \"titleFont\": \"Lato\"}, \"legend\": {\"labelFont\": \"Lato\", \"titleFont\": \"Lato\", \"symbolType\": \"circle\", \"padding\": 1}, \"background\": \"#FFFFFF\", \"range\": {\"category\": [\"#1696d2\", \"#d2d2d2\", \"#000000\", \"#fdbf11\", \"#ec008b\", \"#55b748\", \"#5c5859\", \"#db2b27\"], \"diverging\": [\"#cfe8f3\", \"#a2d4ec\", \"#73bfe2\", \"#46abdb\", \"#1696d2\", \"#12719e\"]}, \"area\": {\"fill\": \"#db2b27\"}, \"line\": {\"color\": \"#db2b27\", \"stroke\": \"#db2b27\", \"strokewidth\": 5}, \"trail\": {\"color\": \"#db2b27\", \"stroke\": \"#db2b27\", \"strokeWidth\": 0, \"size\": 1}, \"path\": {\"stroke\": \"#db2b27\", \"strokeWidth\": 0.5}, \"point\": {\"filled\": true}, \"text\": {\"font\": \"Lato\", \"color\": \"#db2b27\", \"fontSize\": 11, \"align\": \"right\", \"fontWeight\": 400, \"size\": 11}, \"bar\": {\"size\": 40, \"binSpacing\": 1, \"continuousBandSize\": 30, \"discreteBandSize\": 30, \"fill\": \"#db2b27\", \"stroke\": false}}, \"data\": {\"name\": \"data-a3e4d19c5396a415e7782b71f1b45823\"}, \"mark\": \"bar\", \"encoding\": {\"x\": {\"axis\": {\"title\": \"Canciones\"}, \"field\": \"cancion\", \"type\": \"nominal\"}, \"y\": {\"axis\": {\"title\": \"N\\u00famero de horas\"}, \"field\": \"horas\", \"type\": \"quantitative\"}}, \"height\": 300, \"title\": {\"text\": [\"15 canciones m\\u00e1s escuchadas durante el \\u00faltimo a\\u00f1o en horas\"], \"subtitle\": [\"Fuente: Datos personales de Spotify de Claudia\"], \"color\": \"Black\", \"subtitleColor\": \"gray\"}, \"width\": 800, \"$schema\": \"https://vega.github.io/schema/vega-lite/v4.17.0.json\", \"datasets\": {\"data-a3e4d19c5396a415e7782b71f1b45823\": [{\"cancion\": \"Arturo Sandoval\", \"msPlayed\": 11545753, \"minutos\": 192.42921666666666, \"horas\": 3.2071536111111114, \"contador\": 59}, {\"cancion\": \"MONTERO (Call Me By Your Name)\", \"msPlayed\": 7555660, \"minutos\": 125.92766666666667, \"horas\": 2.0987944444444446, \"contador\": 59}, {\"cancion\": \"traitor\", \"msPlayed\": 10745520, \"minutos\": 179.092, \"horas\": 2.9848666666666666, \"contador\": 60}, {\"cancion\": \"Emotions\", \"msPlayed\": 14354429, \"minutos\": 239.24048333333334, \"horas\": 3.987341388888889, \"contador\": 61}, {\"cancion\": \"good 4 u\", \"msPlayed\": 9306045, \"minutos\": 155.10075, \"horas\": 2.5850125, \"contador\": 61}, {\"cancion\": \"Burning Like A Flame\", \"msPlayed\": 19089756, \"minutos\": 318.1626, \"horas\": 5.30271, \"contador\": 65}, {\"cancion\": \"no eres tu(soy yo)\", \"msPlayed\": 8088283, \"minutos\": 134.80471666666665, \"horas\": 2.246745277777778, \"contador\": 71}, {\"cancion\": \"deja vu\", \"msPlayed\": 13446543, \"minutos\": 224.10905, \"horas\": 3.7351508333333334, \"contador\": 71}, {\"cancion\": \"Close To You\", \"msPlayed\": 19676857, \"minutos\": 327.94761666666665, \"horas\": 5.465793611111111, \"contador\": 102}, {\"cancion\": \"telepat\\u00eda\", \"msPlayed\": 15128400, \"minutos\": 252.14, \"horas\": 4.202333333333334, \"contador\": 102}, {\"cancion\": \"LALISA\", \"msPlayed\": 18617026, \"minutos\": 310.2837666666667, \"horas\": 5.171396111111111, \"contador\": 107}, {\"cancion\": \"Bam Bam (feat. Ed Sheeran)\", \"msPlayed\": 25984412, \"minutos\": 433.07353333333333, \"horas\": 7.217892222222223, \"contador\": 129}, {\"cancion\": \"Barcelona Night\", \"msPlayed\": 22725397, \"minutos\": 378.7566166666667, \"horas\": 6.312610277777778, \"contador\": 141}, {\"cancion\": \"drivers license\", \"msPlayed\": 30928367, \"minutos\": 515.4727833333334, \"horas\": 8.591213055555555, \"contador\": 145}, {\"cancion\": \"Leave The Door Open\", \"msPlayed\": 51720356, \"minutos\": 862.0059333333332, \"horas\": 14.366765555555554, \"contador\": 236}]}}, {\"mode\": \"vega-lite\"});\n",
       "</script>"
      ],
      "text/plain": [
       "alt.Chart(...)"
      ]
     },
     "execution_count": 56,
     "metadata": {},
     "output_type": "execute_result"
    }
   ],
   "source": [
    "top15_songs_horas = alt.Chart(top15_songs, height = 300, width = 800).mark_bar().encode( \n",
    "    x = alt.X(\"cancion\", axis=alt.Axis(title='Canciones')), \n",
    "    y = alt.Y(\"horas\", axis=alt.Axis(title='Número de horas')),\n",
    "    ).properties(\n",
    "    title = {\n",
    "      \"text\": [\"15 canciones más escuchadas durante el último año en horas\"], \n",
    "      \"subtitle\": [\"Fuente: Datos personales de Spotify de Claudia\"],\n",
    "      \"color\": \"Black\",\n",
    "      \"subtitleColor\": \"gray\"\n",
    "    }\n",
    ")\n",
    "top15_songs_horas"
   ]
  },
  {
   "cell_type": "markdown",
   "id": "472855ff",
   "metadata": {},
   "source": [
    "# Tabla resumen en minutos"
   ]
  },
  {
   "cell_type": "code",
   "execution_count": 57,
   "id": "6efcd11e",
   "metadata": {},
   "outputs": [
    {
     "data": {
      "text/html": [
       "\n",
       "<div id=\"altair-viz-a2b0e9887e774df58b31d8943f0c91a3\"></div>\n",
       "<script type=\"text/javascript\">\n",
       "  var VEGA_DEBUG = (typeof VEGA_DEBUG == \"undefined\") ? {} : VEGA_DEBUG;\n",
       "  (function(spec, embedOpt){\n",
       "    let outputDiv = document.currentScript.previousElementSibling;\n",
       "    if (outputDiv.id !== \"altair-viz-a2b0e9887e774df58b31d8943f0c91a3\") {\n",
       "      outputDiv = document.getElementById(\"altair-viz-a2b0e9887e774df58b31d8943f0c91a3\");\n",
       "    }\n",
       "    const paths = {\n",
       "      \"vega\": \"https://cdn.jsdelivr.net/npm//vega@5?noext\",\n",
       "      \"vega-lib\": \"https://cdn.jsdelivr.net/npm//vega-lib?noext\",\n",
       "      \"vega-lite\": \"https://cdn.jsdelivr.net/npm//vega-lite@4.17.0?noext\",\n",
       "      \"vega-embed\": \"https://cdn.jsdelivr.net/npm//vega-embed@6?noext\",\n",
       "    };\n",
       "\n",
       "    function maybeLoadScript(lib, version) {\n",
       "      var key = `${lib.replace(\"-\", \"\")}_version`;\n",
       "      return (VEGA_DEBUG[key] == version) ?\n",
       "        Promise.resolve(paths[lib]) :\n",
       "        new Promise(function(resolve, reject) {\n",
       "          var s = document.createElement('script');\n",
       "          document.getElementsByTagName(\"head\")[0].appendChild(s);\n",
       "          s.async = true;\n",
       "          s.onload = () => {\n",
       "            VEGA_DEBUG[key] = version;\n",
       "            return resolve(paths[lib]);\n",
       "          };\n",
       "          s.onerror = () => reject(`Error loading script: ${paths[lib]}`);\n",
       "          s.src = paths[lib];\n",
       "        });\n",
       "    }\n",
       "\n",
       "    function showError(err) {\n",
       "      outputDiv.innerHTML = `<div class=\"error\" style=\"color:red;\">${err}</div>`;\n",
       "      throw err;\n",
       "    }\n",
       "\n",
       "    function displayChart(vegaEmbed) {\n",
       "      vegaEmbed(outputDiv, spec, embedOpt)\n",
       "        .catch(err => showError(`Javascript Error: ${err.message}<br>This usually means there's a typo in your chart specification. See the javascript console for the full traceback.`));\n",
       "    }\n",
       "\n",
       "    if(typeof define === \"function\" && define.amd) {\n",
       "      requirejs.config({paths});\n",
       "      require([\"vega-embed\"], displayChart, err => showError(`Error loading script: ${err.message}`));\n",
       "    } else {\n",
       "      maybeLoadScript(\"vega\", \"5\")\n",
       "        .then(() => maybeLoadScript(\"vega-lite\", \"4.17.0\"))\n",
       "        .then(() => maybeLoadScript(\"vega-embed\", \"6\"))\n",
       "        .catch(showError)\n",
       "        .then(() => displayChart(vegaEmbed));\n",
       "    }\n",
       "  })({\"config\": {\"title\": {\"font\": \"Lato\", \"fontSize\": 25, \"fontWeight\": 300, \"offset\": 0, \"anchor\": \"left\"}, \"axis\": {\"labelFont\": \"Lato\", \"titleFont\": \"Lato\", \"domainColor\": \"black\", \"labelFontSize\": 15, \"titleFontSize\": 20}, \"header\": {\"labelFont\": \"Lato\", \"titleFont\": \"Lato\"}, \"legend\": {\"labelFont\": \"Lato\", \"titleFont\": \"Lato\", \"symbolType\": \"circle\", \"padding\": 1}, \"background\": \"#FFFFFF\", \"range\": {\"category\": [\"#1696d2\", \"#d2d2d2\", \"#000000\", \"#fdbf11\", \"#ec008b\", \"#55b748\", \"#5c5859\", \"#db2b27\"], \"diverging\": [\"#cfe8f3\", \"#a2d4ec\", \"#73bfe2\", \"#46abdb\", \"#1696d2\", \"#12719e\"]}, \"area\": {\"fill\": \"#db2b27\"}, \"line\": {\"color\": \"#db2b27\", \"stroke\": \"#db2b27\", \"strokewidth\": 5}, \"trail\": {\"color\": \"#db2b27\", \"stroke\": \"#db2b27\", \"strokeWidth\": 0, \"size\": 1}, \"path\": {\"stroke\": \"#db2b27\", \"strokeWidth\": 0.5}, \"point\": {\"filled\": true}, \"text\": {\"font\": \"Lato\", \"color\": \"#db2b27\", \"fontSize\": 11, \"align\": \"right\", \"fontWeight\": 400, \"size\": 11}, \"bar\": {\"size\": 40, \"binSpacing\": 1, \"continuousBandSize\": 30, \"discreteBandSize\": 30, \"fill\": \"#db2b27\", \"stroke\": false}}, \"vconcat\": [{\"hconcat\": [{\"data\": {\"name\": \"data-a3e4d19c5396a415e7782b71f1b45823\"}, \"mark\": \"bar\", \"encoding\": {\"x\": {\"axis\": {\"title\": \"Canciones\"}, \"field\": \"cancion\", \"type\": \"nominal\"}, \"y\": {\"axis\": {\"title\": \"N\\u00famero de minutos\"}, \"field\": \"minutos\", \"type\": \"quantitative\"}}, \"height\": 300, \"title\": {\"text\": [\"15 canciones m\\u00e1s escuchadas durante el \\u00faltimo a\\u00f1o en minutos\"], \"subtitle\": [\"Fuente: Datos personales de Spotify de Claudia\"], \"color\": \"Black\", \"subtitleColor\": \"gray\"}, \"width\": 800}, {\"data\": {\"name\": \"data-8ade98b0081c74f9c451f269dc283f4c\"}, \"mark\": \"bar\", \"encoding\": {\"x\": {\"axis\": {\"title\": \"Artistas\"}, \"field\": \"artista\", \"type\": \"nominal\"}, \"y\": {\"axis\": {\"title\": \"N\\u00famero de minutos\"}, \"field\": \"minutos\", \"type\": \"quantitative\"}}, \"height\": 300, \"title\": {\"text\": [\"15 artistas m\\u00e1s escuchados durante el \\u00faltimo a\\u00f1o en minutos\"], \"subtitle\": [\"Fuente: Datos personales de Spotify de Claudia\"], \"color\": \"Black\", \"subtitleColor\": \"gray\"}, \"width\": 800}]}, {\"data\": {\"name\": \"data-cc132af4e521e4fdf7c4186ec73c8f77\"}, \"mark\": \"bar\", \"encoding\": {\"x\": {\"axis\": {\"title\": \"Canciones\"}, \"field\": \"cancion\", \"type\": \"nominal\"}, \"y\": {\"axis\": {\"title\": \"N\\u00famero de minutos\"}, \"field\": \"minutos\", \"type\": \"quantitative\"}}, \"height\": 300, \"title\": {\"text\": [\"15 canciones m\\u00e1s escuchadas de Taylor Swift en minutos\"], \"subtitle\": [\"Fuente: Datos personales de Spotify de Claudia\"], \"color\": \"Black\", \"subtitleColor\": \"gray\"}, \"width\": 1600}], \"title\": {\"text\": [\"Descripci\\u00f3n:\", \"Este gr\\u00e1fico resume algunas estad\\u00edsticas de mi actividad en Spotify durante el \\u00faltimo a\\u00f1o en minutos\", \"Se observa que Taylor Swift es mi artista m\\u00e1s escuchada con 4000 minutos escuchados durante el \\u00faltimo a\\u00f1o\", \"La canci\\u00f3n m\\u00e1s escuchada de Taylor Swift es I Did Somethign Bad con 180 minutos escuchados durante el \\u00faltimo a\\u00f1o\", \"Apesar de que escuch\\u00e9 mucho a Taylro Swift y a muchas de sus canciones, la canci\\u00f3n m\\u00e1s escuchada del a\\u00f1o pasado fue Leave the door open de Silk Sonic\", \"con 900 minutos escuchados.\"], \"anchor\": \"end\", \"baseline\": \"bottom\", \"fontSize\": 15, \"fontWeight\": \"normal\", \"orient\": \"bottom\"}, \"$schema\": \"https://vega.github.io/schema/vega-lite/v4.17.0.json\", \"datasets\": {\"data-a3e4d19c5396a415e7782b71f1b45823\": [{\"cancion\": \"Arturo Sandoval\", \"msPlayed\": 11545753, \"minutos\": 192.42921666666666, \"horas\": 3.2071536111111114, \"contador\": 59}, {\"cancion\": \"MONTERO (Call Me By Your Name)\", \"msPlayed\": 7555660, \"minutos\": 125.92766666666667, \"horas\": 2.0987944444444446, \"contador\": 59}, {\"cancion\": \"traitor\", \"msPlayed\": 10745520, \"minutos\": 179.092, \"horas\": 2.9848666666666666, \"contador\": 60}, {\"cancion\": \"Emotions\", \"msPlayed\": 14354429, \"minutos\": 239.24048333333334, \"horas\": 3.987341388888889, \"contador\": 61}, {\"cancion\": \"good 4 u\", \"msPlayed\": 9306045, \"minutos\": 155.10075, \"horas\": 2.5850125, \"contador\": 61}, {\"cancion\": \"Burning Like A Flame\", \"msPlayed\": 19089756, \"minutos\": 318.1626, \"horas\": 5.30271, \"contador\": 65}, {\"cancion\": \"no eres tu(soy yo)\", \"msPlayed\": 8088283, \"minutos\": 134.80471666666665, \"horas\": 2.246745277777778, \"contador\": 71}, {\"cancion\": \"deja vu\", \"msPlayed\": 13446543, \"minutos\": 224.10905, \"horas\": 3.7351508333333334, \"contador\": 71}, {\"cancion\": \"Close To You\", \"msPlayed\": 19676857, \"minutos\": 327.94761666666665, \"horas\": 5.465793611111111, \"contador\": 102}, {\"cancion\": \"telepat\\u00eda\", \"msPlayed\": 15128400, \"minutos\": 252.14, \"horas\": 4.202333333333334, \"contador\": 102}, {\"cancion\": \"LALISA\", \"msPlayed\": 18617026, \"minutos\": 310.2837666666667, \"horas\": 5.171396111111111, \"contador\": 107}, {\"cancion\": \"Bam Bam (feat. Ed Sheeran)\", \"msPlayed\": 25984412, \"minutos\": 433.07353333333333, \"horas\": 7.217892222222223, \"contador\": 129}, {\"cancion\": \"Barcelona Night\", \"msPlayed\": 22725397, \"minutos\": 378.7566166666667, \"horas\": 6.312610277777778, \"contador\": 141}, {\"cancion\": \"drivers license\", \"msPlayed\": 30928367, \"minutos\": 515.4727833333334, \"horas\": 8.591213055555555, \"contador\": 145}, {\"cancion\": \"Leave The Door Open\", \"msPlayed\": 51720356, \"minutos\": 862.0059333333332, \"horas\": 14.366765555555554, \"contador\": 236}], \"data-8ade98b0081c74f9c451f269dc283f4c\": [{\"artista\": \"Tony Succar\", \"msPlayed\": 53629549, \"minutos\": 893.8258166666667, \"horas\": 14.897096944444444, \"contador\": 237, \"horas_redondeado\": 15.0}, {\"artista\": \"Yuki Hayashi\", \"msPlayed\": 30172882, \"minutos\": 502.8813666666667, \"horas\": 8.381356111111112, \"contador\": 250, \"horas_redondeado\": 9.0}, {\"artista\": \"BROCKHAMPTON\", \"msPlayed\": 44527173, \"minutos\": 742.11955, \"horas\": 12.368659166666667, \"contador\": 253, \"horas_redondeado\": 13.0}, {\"artista\": \"Bad Bunny\", \"msPlayed\": 44016330, \"minutos\": 733.6055, \"horas\": 12.226758333333333, \"contador\": 259, \"horas_redondeado\": 13.0}, {\"artista\": \"Mariah Carey\", \"msPlayed\": 58860807, \"minutos\": 981.01345, \"horas\": 16.350224166666667, \"contador\": 266, \"horas_redondeado\": 17.0}, {\"artista\": \"BLACKPINK\", \"msPlayed\": 70363061, \"minutos\": 1172.7176833333333, \"horas\": 19.545294722222224, \"contador\": 392, \"horas_redondeado\": 20.0}, {\"artista\": \"Last Dinosaurs\", \"msPlayed\": 78702900, \"minutos\": 1311.715, \"horas\": 21.861916666666666, \"contador\": 410, \"horas_redondeado\": 22.0}, {\"artista\": \"Doja Cat\", \"msPlayed\": 71158855, \"minutos\": 1185.9809166666666, \"horas\": 19.766348611111113, \"contador\": 428, \"horas_redondeado\": 20.0}, {\"artista\": \"Juan Luis Guerra 4.40\", \"msPlayed\": 84539631, \"minutos\": 1408.99385, \"horas\": 23.483230833333334, \"contador\": 483, \"horas_redondeado\": 24.0}, {\"artista\": \"Olivia Rodrigo\", \"msPlayed\": 86861800, \"minutos\": 1447.6966666666667, \"horas\": 24.12827777777778, \"contador\": 494, \"horas_redondeado\": 25.0}, {\"artista\": \"Ariana Grande\", \"msPlayed\": 79929871, \"minutos\": 1332.1645166666667, \"horas\": 22.202741944444444, \"contador\": 503, \"horas_redondeado\": 23.0}, {\"artista\": \"Kali Uchis\", \"msPlayed\": 76771268, \"minutos\": 1279.5211333333332, \"horas\": 21.32535222222222, \"contador\": 546, \"horas_redondeado\": 22.0}, {\"artista\": \"Bruno Mars\", \"msPlayed\": 111124279, \"minutos\": 1852.0713166666667, \"horas\": 30.867855277777778, \"contador\": 578, \"horas_redondeado\": 31.0}, {\"artista\": \"L'Imp\\u00e9ratrice\", \"msPlayed\": 129244805, \"minutos\": 2154.0800833333333, \"horas\": 35.901334722222224, \"contador\": 601, \"horas_redondeado\": 36.0}, {\"artista\": \"Taylor Swift\", \"msPlayed\": 235909098, \"minutos\": 3931.8183, \"horas\": 65.530305, \"contador\": 1320, \"horas_redondeado\": 66.0}], \"data-cc132af4e521e4fdf7c4186ec73c8f77\": [{\"cancion\": \"You Need To Calm Down\", \"msPlayed\": 4035949, \"minutos\": 67.26581666666667, \"horas\": 1.1210969444444445, \"contador\": 25}, {\"cancion\": \"22\", \"msPlayed\": 3922355, \"minutos\": 65.37258333333334, \"horas\": 1.0895430555555554, \"contador\": 26}, {\"cancion\": \"The Man\", \"msPlayed\": 4220578, \"minutos\": 70.34296666666667, \"horas\": 1.1723827777777778, \"contador\": 27}, {\"cancion\": \"Lover\", \"msPlayed\": 2809854, \"minutos\": 46.8309, \"horas\": 0.7805150000000001, \"contador\": 27}, {\"cancion\": \"Call It What You Want\", \"msPlayed\": 4861374, \"minutos\": 81.0229, \"horas\": 1.3503816666666666, \"contador\": 30}, {\"cancion\": \"I Forgot That You Existed\", \"msPlayed\": 4938531, \"minutos\": 82.30884999999999, \"horas\": 1.3718141666666666, \"contador\": 30}, {\"cancion\": \"Blank Space\", \"msPlayed\": 6433197, \"minutos\": 107.21995, \"horas\": 1.7869991666666667, \"contador\": 31}, {\"cancion\": \"Don\\u2019t Blame Me\", \"msPlayed\": 6139860, \"minutos\": 102.331, \"horas\": 1.7055166666666666, \"contador\": 33}, {\"cancion\": \"End Game\", \"msPlayed\": 9353424, \"minutos\": 155.8904, \"horas\": 2.5981733333333334, \"contador\": 41}, {\"cancion\": \"...Ready For It?\", \"msPlayed\": 7140169, \"minutos\": 119.00281666666666, \"horas\": 1.9833802777777778, \"contador\": 41}, {\"cancion\": \"Delicate\", \"msPlayed\": 7931205, \"minutos\": 132.18675, \"horas\": 2.2031125, \"contador\": 44}, {\"cancion\": \"Look What You Made Me Do\", \"msPlayed\": 8567550, \"minutos\": 142.7925, \"horas\": 2.379875, \"contador\": 44}, {\"cancion\": \"This Is Why We Can't Have Nice Things\", \"msPlayed\": 9679359, \"minutos\": 161.32265, \"horas\": 2.6887108333333334, \"contador\": 49}, {\"cancion\": \"Cruel Summer\", \"msPlayed\": 9155443, \"minutos\": 152.59071666666668, \"horas\": 2.5431786111111108, \"contador\": 57}, {\"cancion\": \"I Did Something Bad\", \"msPlayed\": 10771110, \"minutos\": 179.51850000000002, \"horas\": 2.991975, \"contador\": 58}]}}, {\"mode\": \"vega-lite\"});\n",
       "</script>"
      ],
      "text/plain": [
       "alt.VConcatChart(...)"
      ]
     },
     "execution_count": 57,
     "metadata": {},
     "output_type": "execute_result"
    }
   ],
   "source": [
    "tabla_min = alt.vconcat(alt.hconcat(top15_songs_min, top15_artists_min), tay_top15_songs_min).properties(\n",
    "    title=alt.TitleParams(\n",
    "        ['Descripción:','Este gráfico resume algunas estadísticas de mi actividad en Spotify durante el último año en minutos',\n",
    "        'Se observa que Taylor Swift es mi artista más escuchada con 4000 minutos escuchados durante el último año',\n",
    "        'La canción más escuchada de Taylor Swift es I Did Somethign Bad con 180 minutos escuchados durante el último año',\n",
    "        'Apesar de que escuché mucho a Taylro Swift y a muchas de sus canciones, la canción más escuchada del año pasado fue Leave the door open de Silk Sonic',\n",
    "        'con 900 minutos escuchados.'],\n",
    "        baseline='bottom',\n",
    "        orient='bottom',\n",
    "        anchor='end',\n",
    "        fontWeight='normal',\n",
    "        fontSize=15\n",
    "    )\n",
    ")\n",
    "tabla_min"
   ]
  },
  {
   "cell_type": "markdown",
   "id": "27182395",
   "metadata": {},
   "source": [
    "# Tabla resumen en horas"
   ]
  },
  {
   "cell_type": "code",
   "execution_count": 58,
   "id": "54b5c03a",
   "metadata": {},
   "outputs": [
    {
     "data": {
      "text/html": [
       "\n",
       "<div id=\"altair-viz-7ecf7765f2244cecbb2117ed15fc5d69\"></div>\n",
       "<script type=\"text/javascript\">\n",
       "  var VEGA_DEBUG = (typeof VEGA_DEBUG == \"undefined\") ? {} : VEGA_DEBUG;\n",
       "  (function(spec, embedOpt){\n",
       "    let outputDiv = document.currentScript.previousElementSibling;\n",
       "    if (outputDiv.id !== \"altair-viz-7ecf7765f2244cecbb2117ed15fc5d69\") {\n",
       "      outputDiv = document.getElementById(\"altair-viz-7ecf7765f2244cecbb2117ed15fc5d69\");\n",
       "    }\n",
       "    const paths = {\n",
       "      \"vega\": \"https://cdn.jsdelivr.net/npm//vega@5?noext\",\n",
       "      \"vega-lib\": \"https://cdn.jsdelivr.net/npm//vega-lib?noext\",\n",
       "      \"vega-lite\": \"https://cdn.jsdelivr.net/npm//vega-lite@4.17.0?noext\",\n",
       "      \"vega-embed\": \"https://cdn.jsdelivr.net/npm//vega-embed@6?noext\",\n",
       "    };\n",
       "\n",
       "    function maybeLoadScript(lib, version) {\n",
       "      var key = `${lib.replace(\"-\", \"\")}_version`;\n",
       "      return (VEGA_DEBUG[key] == version) ?\n",
       "        Promise.resolve(paths[lib]) :\n",
       "        new Promise(function(resolve, reject) {\n",
       "          var s = document.createElement('script');\n",
       "          document.getElementsByTagName(\"head\")[0].appendChild(s);\n",
       "          s.async = true;\n",
       "          s.onload = () => {\n",
       "            VEGA_DEBUG[key] = version;\n",
       "            return resolve(paths[lib]);\n",
       "          };\n",
       "          s.onerror = () => reject(`Error loading script: ${paths[lib]}`);\n",
       "          s.src = paths[lib];\n",
       "        });\n",
       "    }\n",
       "\n",
       "    function showError(err) {\n",
       "      outputDiv.innerHTML = `<div class=\"error\" style=\"color:red;\">${err}</div>`;\n",
       "      throw err;\n",
       "    }\n",
       "\n",
       "    function displayChart(vegaEmbed) {\n",
       "      vegaEmbed(outputDiv, spec, embedOpt)\n",
       "        .catch(err => showError(`Javascript Error: ${err.message}<br>This usually means there's a typo in your chart specification. See the javascript console for the full traceback.`));\n",
       "    }\n",
       "\n",
       "    if(typeof define === \"function\" && define.amd) {\n",
       "      requirejs.config({paths});\n",
       "      require([\"vega-embed\"], displayChart, err => showError(`Error loading script: ${err.message}`));\n",
       "    } else {\n",
       "      maybeLoadScript(\"vega\", \"5\")\n",
       "        .then(() => maybeLoadScript(\"vega-lite\", \"4.17.0\"))\n",
       "        .then(() => maybeLoadScript(\"vega-embed\", \"6\"))\n",
       "        .catch(showError)\n",
       "        .then(() => displayChart(vegaEmbed));\n",
       "    }\n",
       "  })({\"config\": {\"title\": {\"font\": \"Lato\", \"fontSize\": 25, \"fontWeight\": 300, \"offset\": 0, \"anchor\": \"left\"}, \"axis\": {\"labelFont\": \"Lato\", \"titleFont\": \"Lato\", \"domainColor\": \"black\", \"labelFontSize\": 15, \"titleFontSize\": 20}, \"header\": {\"labelFont\": \"Lato\", \"titleFont\": \"Lato\"}, \"legend\": {\"labelFont\": \"Lato\", \"titleFont\": \"Lato\", \"symbolType\": \"circle\", \"padding\": 1}, \"background\": \"#FFFFFF\", \"range\": {\"category\": [\"#1696d2\", \"#d2d2d2\", \"#000000\", \"#fdbf11\", \"#ec008b\", \"#55b748\", \"#5c5859\", \"#db2b27\"], \"diverging\": [\"#cfe8f3\", \"#a2d4ec\", \"#73bfe2\", \"#46abdb\", \"#1696d2\", \"#12719e\"]}, \"area\": {\"fill\": \"#db2b27\"}, \"line\": {\"color\": \"#db2b27\", \"stroke\": \"#db2b27\", \"strokewidth\": 5}, \"trail\": {\"color\": \"#db2b27\", \"stroke\": \"#db2b27\", \"strokeWidth\": 0, \"size\": 1}, \"path\": {\"stroke\": \"#db2b27\", \"strokeWidth\": 0.5}, \"point\": {\"filled\": true}, \"text\": {\"font\": \"Lato\", \"color\": \"#db2b27\", \"fontSize\": 11, \"align\": \"right\", \"fontWeight\": 400, \"size\": 11}, \"bar\": {\"size\": 40, \"binSpacing\": 1, \"continuousBandSize\": 30, \"discreteBandSize\": 30, \"fill\": \"#db2b27\", \"stroke\": false}}, \"vconcat\": [{\"hconcat\": [{\"data\": {\"name\": \"data-a3e4d19c5396a415e7782b71f1b45823\"}, \"mark\": \"bar\", \"encoding\": {\"x\": {\"axis\": {\"title\": \"Canciones\"}, \"field\": \"cancion\", \"type\": \"nominal\"}, \"y\": {\"axis\": {\"title\": \"N\\u00famero de horas\"}, \"field\": \"horas\", \"type\": \"quantitative\"}}, \"height\": 300, \"title\": {\"text\": [\"15 canciones m\\u00e1s escuchadas durante el \\u00faltimo a\\u00f1o en horas\"], \"subtitle\": [\"Fuente: Datos personales de Spotify de Claudia\"], \"color\": \"Black\", \"subtitleColor\": \"gray\"}, \"width\": 800}, {\"data\": {\"name\": \"data-8ade98b0081c74f9c451f269dc283f4c\"}, \"mark\": \"bar\", \"encoding\": {\"x\": {\"axis\": {\"title\": \"Artistas\"}, \"field\": \"artista\", \"type\": \"nominal\"}, \"y\": {\"axis\": {\"title\": \"N\\u00famero de horas\"}, \"field\": \"horas\", \"type\": \"quantitative\"}}, \"height\": 300, \"title\": {\"text\": [\"15 artistas m\\u00e1s escuchados durante el \\u00faltimo a\\u00f1o en horas\"], \"subtitle\": [\"Fuente: Datos personales de Spotify de Claudia\"], \"color\": \"Black\", \"subtitleColor\": \"gray\"}, \"width\": 800}]}, {\"data\": {\"name\": \"data-cc132af4e521e4fdf7c4186ec73c8f77\"}, \"mark\": \"bar\", \"encoding\": {\"x\": {\"axis\": {\"title\": \"Canciones\"}, \"field\": \"cancion\", \"type\": \"nominal\"}, \"y\": {\"axis\": {\"title\": \"N\\u00famero de horas\"}, \"field\": \"horas\", \"type\": \"quantitative\"}}, \"height\": 300, \"title\": {\"text\": [\"15 canciones m\\u00e1s escuchadas de Taylor Swift en horas\"], \"subtitle\": [\"Fuente: Datos personales de Spotify de Claudia\"], \"color\": \"Black\", \"subtitleColor\": \"gray\"}, \"width\": 1600}], \"title\": {\"text\": [\"Descripci\\u00f3n:\", \"Este gr\\u00e1fico resume algunas estad\\u00edsticas de mi actividad en Spotify durante el \\u00faltimo a\\u00f1o en horas\", \"Se observa que Taylor Swift es mi artista m\\u00e1s escuchada con casi 70 horas escuchadas durante el \\u00faltimo a\\u00f1o\", \"La canci\\u00f3n m\\u00e1s escuchada de Taylor Swift es I Did Somethign Bad con 3 horas escuchadas durante el \\u00faltimo a\\u00f1o\", \"Apesar de que escuch\\u00e9 mucho a Taylro Swift y a muchas de sus canciones, la canci\\u00f3n m\\u00e1s escuchada del a\\u00f1o pasado fue Leave the door open de Silk Sonic\", \"con al rededor de 14 horas escuchadas.\"], \"anchor\": \"end\", \"baseline\": \"bottom\", \"fontSize\": 15, \"fontWeight\": \"normal\", \"orient\": \"bottom\"}, \"$schema\": \"https://vega.github.io/schema/vega-lite/v4.17.0.json\", \"datasets\": {\"data-a3e4d19c5396a415e7782b71f1b45823\": [{\"cancion\": \"Arturo Sandoval\", \"msPlayed\": 11545753, \"minutos\": 192.42921666666666, \"horas\": 3.2071536111111114, \"contador\": 59}, {\"cancion\": \"MONTERO (Call Me By Your Name)\", \"msPlayed\": 7555660, \"minutos\": 125.92766666666667, \"horas\": 2.0987944444444446, \"contador\": 59}, {\"cancion\": \"traitor\", \"msPlayed\": 10745520, \"minutos\": 179.092, \"horas\": 2.9848666666666666, \"contador\": 60}, {\"cancion\": \"Emotions\", \"msPlayed\": 14354429, \"minutos\": 239.24048333333334, \"horas\": 3.987341388888889, \"contador\": 61}, {\"cancion\": \"good 4 u\", \"msPlayed\": 9306045, \"minutos\": 155.10075, \"horas\": 2.5850125, \"contador\": 61}, {\"cancion\": \"Burning Like A Flame\", \"msPlayed\": 19089756, \"minutos\": 318.1626, \"horas\": 5.30271, \"contador\": 65}, {\"cancion\": \"no eres tu(soy yo)\", \"msPlayed\": 8088283, \"minutos\": 134.80471666666665, \"horas\": 2.246745277777778, \"contador\": 71}, {\"cancion\": \"deja vu\", \"msPlayed\": 13446543, \"minutos\": 224.10905, \"horas\": 3.7351508333333334, \"contador\": 71}, {\"cancion\": \"Close To You\", \"msPlayed\": 19676857, \"minutos\": 327.94761666666665, \"horas\": 5.465793611111111, \"contador\": 102}, {\"cancion\": \"telepat\\u00eda\", \"msPlayed\": 15128400, \"minutos\": 252.14, \"horas\": 4.202333333333334, \"contador\": 102}, {\"cancion\": \"LALISA\", \"msPlayed\": 18617026, \"minutos\": 310.2837666666667, \"horas\": 5.171396111111111, \"contador\": 107}, {\"cancion\": \"Bam Bam (feat. Ed Sheeran)\", \"msPlayed\": 25984412, \"minutos\": 433.07353333333333, \"horas\": 7.217892222222223, \"contador\": 129}, {\"cancion\": \"Barcelona Night\", \"msPlayed\": 22725397, \"minutos\": 378.7566166666667, \"horas\": 6.312610277777778, \"contador\": 141}, {\"cancion\": \"drivers license\", \"msPlayed\": 30928367, \"minutos\": 515.4727833333334, \"horas\": 8.591213055555555, \"contador\": 145}, {\"cancion\": \"Leave The Door Open\", \"msPlayed\": 51720356, \"minutos\": 862.0059333333332, \"horas\": 14.366765555555554, \"contador\": 236}], \"data-8ade98b0081c74f9c451f269dc283f4c\": [{\"artista\": \"Tony Succar\", \"msPlayed\": 53629549, \"minutos\": 893.8258166666667, \"horas\": 14.897096944444444, \"contador\": 237, \"horas_redondeado\": 15.0}, {\"artista\": \"Yuki Hayashi\", \"msPlayed\": 30172882, \"minutos\": 502.8813666666667, \"horas\": 8.381356111111112, \"contador\": 250, \"horas_redondeado\": 9.0}, {\"artista\": \"BROCKHAMPTON\", \"msPlayed\": 44527173, \"minutos\": 742.11955, \"horas\": 12.368659166666667, \"contador\": 253, \"horas_redondeado\": 13.0}, {\"artista\": \"Bad Bunny\", \"msPlayed\": 44016330, \"minutos\": 733.6055, \"horas\": 12.226758333333333, \"contador\": 259, \"horas_redondeado\": 13.0}, {\"artista\": \"Mariah Carey\", \"msPlayed\": 58860807, \"minutos\": 981.01345, \"horas\": 16.350224166666667, \"contador\": 266, \"horas_redondeado\": 17.0}, {\"artista\": \"BLACKPINK\", \"msPlayed\": 70363061, \"minutos\": 1172.7176833333333, \"horas\": 19.545294722222224, \"contador\": 392, \"horas_redondeado\": 20.0}, {\"artista\": \"Last Dinosaurs\", \"msPlayed\": 78702900, \"minutos\": 1311.715, \"horas\": 21.861916666666666, \"contador\": 410, \"horas_redondeado\": 22.0}, {\"artista\": \"Doja Cat\", \"msPlayed\": 71158855, \"minutos\": 1185.9809166666666, \"horas\": 19.766348611111113, \"contador\": 428, \"horas_redondeado\": 20.0}, {\"artista\": \"Juan Luis Guerra 4.40\", \"msPlayed\": 84539631, \"minutos\": 1408.99385, \"horas\": 23.483230833333334, \"contador\": 483, \"horas_redondeado\": 24.0}, {\"artista\": \"Olivia Rodrigo\", \"msPlayed\": 86861800, \"minutos\": 1447.6966666666667, \"horas\": 24.12827777777778, \"contador\": 494, \"horas_redondeado\": 25.0}, {\"artista\": \"Ariana Grande\", \"msPlayed\": 79929871, \"minutos\": 1332.1645166666667, \"horas\": 22.202741944444444, \"contador\": 503, \"horas_redondeado\": 23.0}, {\"artista\": \"Kali Uchis\", \"msPlayed\": 76771268, \"minutos\": 1279.5211333333332, \"horas\": 21.32535222222222, \"contador\": 546, \"horas_redondeado\": 22.0}, {\"artista\": \"Bruno Mars\", \"msPlayed\": 111124279, \"minutos\": 1852.0713166666667, \"horas\": 30.867855277777778, \"contador\": 578, \"horas_redondeado\": 31.0}, {\"artista\": \"L'Imp\\u00e9ratrice\", \"msPlayed\": 129244805, \"minutos\": 2154.0800833333333, \"horas\": 35.901334722222224, \"contador\": 601, \"horas_redondeado\": 36.0}, {\"artista\": \"Taylor Swift\", \"msPlayed\": 235909098, \"minutos\": 3931.8183, \"horas\": 65.530305, \"contador\": 1320, \"horas_redondeado\": 66.0}], \"data-cc132af4e521e4fdf7c4186ec73c8f77\": [{\"cancion\": \"You Need To Calm Down\", \"msPlayed\": 4035949, \"minutos\": 67.26581666666667, \"horas\": 1.1210969444444445, \"contador\": 25}, {\"cancion\": \"22\", \"msPlayed\": 3922355, \"minutos\": 65.37258333333334, \"horas\": 1.0895430555555554, \"contador\": 26}, {\"cancion\": \"The Man\", \"msPlayed\": 4220578, \"minutos\": 70.34296666666667, \"horas\": 1.1723827777777778, \"contador\": 27}, {\"cancion\": \"Lover\", \"msPlayed\": 2809854, \"minutos\": 46.8309, \"horas\": 0.7805150000000001, \"contador\": 27}, {\"cancion\": \"Call It What You Want\", \"msPlayed\": 4861374, \"minutos\": 81.0229, \"horas\": 1.3503816666666666, \"contador\": 30}, {\"cancion\": \"I Forgot That You Existed\", \"msPlayed\": 4938531, \"minutos\": 82.30884999999999, \"horas\": 1.3718141666666666, \"contador\": 30}, {\"cancion\": \"Blank Space\", \"msPlayed\": 6433197, \"minutos\": 107.21995, \"horas\": 1.7869991666666667, \"contador\": 31}, {\"cancion\": \"Don\\u2019t Blame Me\", \"msPlayed\": 6139860, \"minutos\": 102.331, \"horas\": 1.7055166666666666, \"contador\": 33}, {\"cancion\": \"End Game\", \"msPlayed\": 9353424, \"minutos\": 155.8904, \"horas\": 2.5981733333333334, \"contador\": 41}, {\"cancion\": \"...Ready For It?\", \"msPlayed\": 7140169, \"minutos\": 119.00281666666666, \"horas\": 1.9833802777777778, \"contador\": 41}, {\"cancion\": \"Delicate\", \"msPlayed\": 7931205, \"minutos\": 132.18675, \"horas\": 2.2031125, \"contador\": 44}, {\"cancion\": \"Look What You Made Me Do\", \"msPlayed\": 8567550, \"minutos\": 142.7925, \"horas\": 2.379875, \"contador\": 44}, {\"cancion\": \"This Is Why We Can't Have Nice Things\", \"msPlayed\": 9679359, \"minutos\": 161.32265, \"horas\": 2.6887108333333334, \"contador\": 49}, {\"cancion\": \"Cruel Summer\", \"msPlayed\": 9155443, \"minutos\": 152.59071666666668, \"horas\": 2.5431786111111108, \"contador\": 57}, {\"cancion\": \"I Did Something Bad\", \"msPlayed\": 10771110, \"minutos\": 179.51850000000002, \"horas\": 2.991975, \"contador\": 58}]}}, {\"mode\": \"vega-lite\"});\n",
       "</script>"
      ],
      "text/plain": [
       "alt.VConcatChart(...)"
      ]
     },
     "execution_count": 58,
     "metadata": {},
     "output_type": "execute_result"
    }
   ],
   "source": [
    "tabla_horas = alt.vconcat(alt.hconcat(top15_songs_horas, top15_artists_horas), tay_top15_songs_horas).properties(\n",
    "    title=alt.TitleParams(\n",
    "        ['Descripción:','Este gráfico resume algunas estadísticas de mi actividad en Spotify durante el último año en horas',\n",
    "        'Se observa que Taylor Swift es mi artista más escuchada con casi 70 horas escuchadas durante el último año',\n",
    "        'La canción más escuchada de Taylor Swift es I Did Somethign Bad con 3 horas escuchadas durante el último año',\n",
    "        'Apesar de que escuché mucho a Taylro Swift y a muchas de sus canciones, la canción más escuchada del año pasado fue Leave the door open de Silk Sonic',\n",
    "        'con al rededor de 14 horas escuchadas.'],\n",
    "        baseline='bottom',\n",
    "        orient='bottom',\n",
    "        anchor='end',\n",
    "        fontWeight='normal',\n",
    "        fontSize=15\n",
    "    )\n",
    ")\n",
    "tabla_horas"
   ]
  },
  {
   "cell_type": "code",
   "execution_count": null,
   "id": "65f91b5d",
   "metadata": {},
   "outputs": [],
   "source": []
  }
 ],
 "metadata": {
  "kernelspec": {
   "display_name": "Python 3 (ipykernel)",
   "language": "python",
   "name": "python3"
  },
  "language_info": {
   "codemirror_mode": {
    "name": "ipython",
    "version": 3
   },
   "file_extension": ".py",
   "mimetype": "text/x-python",
   "name": "python",
   "nbconvert_exporter": "python",
   "pygments_lexer": "ipython3",
   "version": "3.9.7"
  }
 },
 "nbformat": 4,
 "nbformat_minor": 5
}
